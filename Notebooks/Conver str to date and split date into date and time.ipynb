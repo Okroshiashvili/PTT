{
 "nbformat": 4,
 "nbformat_minor": 2,
 "metadata": {
  "language_info": {
   "name": "python",
   "codemirror_mode": {
    "name": "ipython",
    "version": 3
   },
   "version": "3.7.5-final"
  },
  "orig_nbformat": 2,
  "file_extension": ".py",
  "mimetype": "text/x-python",
  "name": "python",
  "npconvert_exporter": "python",
  "pygments_lexer": "ipython3",
  "version": 3,
  "kernelspec": {
   "name": "python37564bitpandasconda46ae5c7cd3ce4633b20b3219cca00c78",
   "display_name": "Python 3.7.5 64-bit ('pandas': conda)"
  }
 },
 "cells": [
  {
   "cell_type": "markdown",
   "execution_count": null,
   "metadata": {},
   "outputs": [],
   "source": [
    "# How to convert/parse strings into correct datetime object and split them into date and time column\n",
    "\n",
    "---\n",
    "\n",
    "In this notebook, I want to show you some tricks how conveniently you can convert or parse string date into Pandas datetime object and handle two digit years correctly. Additionaly, I'll show you how to split datetime object into date and time column."
   ]
  },
  {
   "cell_type": "code",
   "execution_count": 1,
   "metadata": {},
   "outputs": [],
   "source": [
    "import pandas as pd"
   ]
  },
  {
   "cell_type": "markdown",
   "execution_count": null,
   "metadata": {},
   "outputs": [],
   "source": [
    "Let create some artificial data as dictionary and then convert if to Pandas DataFrame object"
   ]
  },
  {
   "cell_type": "code",
   "execution_count": 2,
   "metadata": {},
   "outputs": [],
   "source": [
    "data = {\"Name\":[\"Tom\", \"Kate\", \"Mark\", \"Ken\"], \"Birth_Date\":[\"16/11/89\", \"8/03/65\", \"14/05/64\", \"06/01/68\"]}"
   ]
  },
  {
   "cell_type": "code",
   "execution_count": 3,
   "metadata": {},
   "outputs": [],
   "source": [
    "# Convert dict into DataFrame\n",
    "\n",
    "\n",
    "df = pd.DataFrame(data)"
   ]
  },
  {
   "cell_type": "code",
   "execution_count": 4,
   "metadata": {},
   "outputs": [
    {
     "data": {
      "text/html": "<div>\n<style scoped>\n    .dataframe tbody tr th:only-of-type {\n        vertical-align: middle;\n    }\n\n    .dataframe tbody tr th {\n        vertical-align: top;\n    }\n\n    .dataframe thead th {\n        text-align: right;\n    }\n</style>\n<table border=\"1\" class=\"dataframe\">\n  <thead>\n    <tr style=\"text-align: right;\">\n      <th></th>\n      <th>Name</th>\n      <th>Birth_Date</th>\n    </tr>\n  </thead>\n  <tbody>\n    <tr>\n      <th>0</th>\n      <td>Tom</td>\n      <td>16/11/89</td>\n    </tr>\n    <tr>\n      <th>1</th>\n      <td>Kate</td>\n      <td>8/03/65</td>\n    </tr>\n    <tr>\n      <th>2</th>\n      <td>Mark</td>\n      <td>14/05/64</td>\n    </tr>\n    <tr>\n      <th>3</th>\n      <td>Ken</td>\n      <td>06/01/68</td>\n    </tr>\n  </tbody>\n</table>\n</div>",
      "text/plain": "   Name Birth_Date\n0   Tom   16/11/89\n1  Kate    8/03/65\n2  Mark   14/05/64\n3   Ken   06/01/68"
     },
     "execution_count": 4,
     "metadata": {},
     "output_type": "execute_result"
    }
   ],
   "source": [
    "df"
   ]
  },
  {
   "cell_type": "markdown",
   "execution_count": null,
   "metadata": {},
   "outputs": [],
   "source": [
    "Let check the type of ```Birth_Date``` column to make sure that it's ```object``` type and not ```datetime```"
   ]
  },
  {
   "cell_type": "code",
   "execution_count": 5,
   "metadata": {},
   "outputs": [
    {
     "name": "stdout",
     "output_type": "stream",
     "text": "<class 'pandas.core.frame.DataFrame'>\nRangeIndex: 4 entries, 0 to 3\nData columns (total 2 columns):\nName          4 non-null object\nBirth_Date    4 non-null object\ndtypes: object(2)\nmemory usage: 192.0+ bytes\n"
    }
   ],
   "source": [
    "df.info()"
   ]
  },
  {
   "cell_type": "markdown",
   "execution_count": null,
   "metadata": {},
   "outputs": [],
   "source": [
    "We clearly see that ```Birth_Date``` is object or it's string and Pandas conventional methods for datetime object will not work here. Let convert in to datetime object with ```pd.to_datetime()``` method. Before that, in ```Birth_Date``` column first entry is day, second is month and third is year."
   ]
  },
  {
   "cell_type": "code",
   "execution_count": 6,
   "metadata": {},
   "outputs": [],
   "source": [
    "df['date_of_bith'] = pd.to_datetime(df['Birth_Date'])"
   ]
  },
  {
   "cell_type": "code",
   "execution_count": 7,
   "metadata": {},
   "outputs": [
    {
     "data": {
      "text/html": "<div>\n<style scoped>\n    .dataframe tbody tr th:only-of-type {\n        vertical-align: middle;\n    }\n\n    .dataframe tbody tr th {\n        vertical-align: top;\n    }\n\n    .dataframe thead th {\n        text-align: right;\n    }\n</style>\n<table border=\"1\" class=\"dataframe\">\n  <thead>\n    <tr style=\"text-align: right;\">\n      <th></th>\n      <th>Name</th>\n      <th>Birth_Date</th>\n      <th>date_of_bith</th>\n    </tr>\n  </thead>\n  <tbody>\n    <tr>\n      <th>0</th>\n      <td>Tom</td>\n      <td>16/11/89</td>\n      <td>1989-11-16</td>\n    </tr>\n    <tr>\n      <th>1</th>\n      <td>Kate</td>\n      <td>8/03/65</td>\n      <td>2065-08-03</td>\n    </tr>\n    <tr>\n      <th>2</th>\n      <td>Mark</td>\n      <td>14/05/64</td>\n      <td>2064-05-14</td>\n    </tr>\n    <tr>\n      <th>3</th>\n      <td>Ken</td>\n      <td>06/01/68</td>\n      <td>2068-06-01</td>\n    </tr>\n  </tbody>\n</table>\n</div>",
      "text/plain": "   Name Birth_Date date_of_bith\n0   Tom   16/11/89   1989-11-16\n1  Kate    8/03/65   2065-08-03\n2  Mark   14/05/64   2064-05-14\n3   Ken   06/01/68   2068-06-01"
     },
     "execution_count": 7,
     "metadata": {},
     "output_type": "execute_result"
    }
   ],
   "source": [
    "df"
   ]
  },
  {
   "cell_type": "markdown",
   "execution_count": null,
   "metadata": {},
   "outputs": [],
   "source": [
    "Hmmm, who was born in the future? what's wrong here? [The answer comes from docs](https://docs.python.org/3/library/time.html): Python depends on the platform’s C library, which generally doesn’t have year 2000 issues, since all dates and times are represented internally as seconds since the epoch. Function ```strptime()``` can parse 2-digit years when given ```%y``` format code. When 2-digit years are parsed, they are converted according to the **POSIX** and **ISO** C standards:values 69–99 are mapped to 1969–1999, and values 0–68 are mapped to 2000–2068**.\n",
    "\n",
    "Now, everything is clear. We need to find some workaround. I solved this problem with Pandas Series ```str```."
   ]
  },
  {
   "cell_type": "code",
   "execution_count": 8,
   "metadata": {},
   "outputs": [],
   "source": [
    "df['correct_birth_date'] = pd.to_datetime(df['Birth_Date'].str[:-2] + '19' + df['Birth_Date'].str[-2:])"
   ]
  },
  {
   "cell_type": "code",
   "execution_count": 9,
   "metadata": {},
   "outputs": [
    {
     "data": {
      "text/html": "<div>\n<style scoped>\n    .dataframe tbody tr th:only-of-type {\n        vertical-align: middle;\n    }\n\n    .dataframe tbody tr th {\n        vertical-align: top;\n    }\n\n    .dataframe thead th {\n        text-align: right;\n    }\n</style>\n<table border=\"1\" class=\"dataframe\">\n  <thead>\n    <tr style=\"text-align: right;\">\n      <th></th>\n      <th>Name</th>\n      <th>Birth_Date</th>\n      <th>date_of_bith</th>\n      <th>correct_birth_date</th>\n    </tr>\n  </thead>\n  <tbody>\n    <tr>\n      <th>0</th>\n      <td>Tom</td>\n      <td>16/11/89</td>\n      <td>1989-11-16</td>\n      <td>1989-11-16</td>\n    </tr>\n    <tr>\n      <th>1</th>\n      <td>Kate</td>\n      <td>8/03/65</td>\n      <td>2065-08-03</td>\n      <td>1965-08-03</td>\n    </tr>\n    <tr>\n      <th>2</th>\n      <td>Mark</td>\n      <td>14/05/64</td>\n      <td>2064-05-14</td>\n      <td>1964-05-14</td>\n    </tr>\n    <tr>\n      <th>3</th>\n      <td>Ken</td>\n      <td>06/01/68</td>\n      <td>2068-06-01</td>\n      <td>1968-06-01</td>\n    </tr>\n  </tbody>\n</table>\n</div>",
      "text/plain": "   Name Birth_Date date_of_bith correct_birth_date\n0   Tom   16/11/89   1989-11-16         1989-11-16\n1  Kate    8/03/65   2065-08-03         1965-08-03\n2  Mark   14/05/64   2064-05-14         1964-05-14\n3   Ken   06/01/68   2068-06-01         1968-06-01"
     },
     "execution_count": 9,
     "metadata": {},
     "output_type": "execute_result"
    }
   ],
   "source": [
    "df"
   ]
  },
  {
   "cell_type": "code",
   "execution_count": 10,
   "metadata": {},
   "outputs": [
    {
     "name": "stdout",
     "output_type": "stream",
     "text": "<class 'pandas.core.frame.DataFrame'>\nRangeIndex: 4 entries, 0 to 3\nData columns (total 4 columns):\nName                  4 non-null object\nBirth_Date            4 non-null object\ndate_of_bith          4 non-null datetime64[ns]\ncorrect_birth_date    4 non-null datetime64[ns]\ndtypes: datetime64[ns](2), object(2)\nmemory usage: 256.0+ bytes\n"
    }
   ],
   "source": [
    "df.info()"
   ]
  },
  {
   "cell_type": "markdown",
   "execution_count": null,
   "metadata": {},
   "outputs": [],
   "source": [
    "Now you can use datetime methods and attributes for this column. Let extract year, month, and day separately."
   ]
  },
  {
   "cell_type": "code",
   "execution_count": 12,
   "metadata": {},
   "outputs": [],
   "source": [
    "df['year'] = df['correct_birth_date'].dt.year\n",
    "\n",
    "df['month'] = df['correct_birth_date'].dt.month\n",
    "\n",
    "df['day'] = df['correct_birth_date'].dt.day"
   ]
  },
  {
   "cell_type": "code",
   "execution_count": 13,
   "metadata": {},
   "outputs": [
    {
     "data": {
      "text/html": "<div>\n<style scoped>\n    .dataframe tbody tr th:only-of-type {\n        vertical-align: middle;\n    }\n\n    .dataframe tbody tr th {\n        vertical-align: top;\n    }\n\n    .dataframe thead th {\n        text-align: right;\n    }\n</style>\n<table border=\"1\" class=\"dataframe\">\n  <thead>\n    <tr style=\"text-align: right;\">\n      <th></th>\n      <th>Name</th>\n      <th>Birth_Date</th>\n      <th>date_of_bith</th>\n      <th>correct_birth_date</th>\n      <th>year</th>\n      <th>month</th>\n      <th>day</th>\n    </tr>\n  </thead>\n  <tbody>\n    <tr>\n      <th>0</th>\n      <td>Tom</td>\n      <td>16/11/89</td>\n      <td>1989-11-16</td>\n      <td>1989-11-16</td>\n      <td>1989</td>\n      <td>11</td>\n      <td>16</td>\n    </tr>\n    <tr>\n      <th>1</th>\n      <td>Kate</td>\n      <td>8/03/65</td>\n      <td>2065-08-03</td>\n      <td>1965-08-03</td>\n      <td>1965</td>\n      <td>8</td>\n      <td>3</td>\n    </tr>\n    <tr>\n      <th>2</th>\n      <td>Mark</td>\n      <td>14/05/64</td>\n      <td>2064-05-14</td>\n      <td>1964-05-14</td>\n      <td>1964</td>\n      <td>5</td>\n      <td>14</td>\n    </tr>\n    <tr>\n      <th>3</th>\n      <td>Ken</td>\n      <td>06/01/68</td>\n      <td>2068-06-01</td>\n      <td>1968-06-01</td>\n      <td>1968</td>\n      <td>6</td>\n      <td>1</td>\n    </tr>\n  </tbody>\n</table>\n</div>",
      "text/plain": "   Name Birth_Date date_of_bith correct_birth_date  year  month  day\n0   Tom   16/11/89   1989-11-16         1989-11-16  1989     11   16\n1  Kate    8/03/65   2065-08-03         1965-08-03  1965      8    3\n2  Mark   14/05/64   2064-05-14         1964-05-14  1964      5   14\n3   Ken   06/01/68   2068-06-01         1968-06-01  1968      6    1"
     },
     "execution_count": 13,
     "metadata": {},
     "output_type": "execute_result"
    }
   ],
   "source": [
    "df"
   ]
  },
  {
   "cell_type": "markdown",
   "execution_count": null,
   "metadata": {},
   "outputs": [],
   "source": [
    "## Split datetime object into date and time\n",
    "\n",
    "\n",
    "---\n",
    "\n",
    "What if we want to split datetime object into date and time? That's not hard task. We can use Pands ```to_datetime()``` method with its attributes, as above. For this let rewrite our data and then create new dataframe."
   ]
  },
  {
   "cell_type": "code",
   "execution_count": 14,
   "metadata": {},
   "outputs": [],
   "source": [
    "data = {\"Name\":[\"Tom\", \"Kate\", \"Mark\", \"Ken\"], \"Birth_Date\":[\"2016-02-22 14:59:44.561776\", \"2017-03-23 15:59:44.561776\",\n",
    "                                                            \"2018-04-24 16:59:44.561776\", \"2019-05-25 17:59:44.561776\"]}"
   ]
  },
  {
   "cell_type": "code",
   "execution_count": 15,
   "metadata": {},
   "outputs": [],
   "source": [
    "df = pd.DataFrame(data)\n",
    "\n",
    "df['birth_date'] = pd.to_datetime(df['Birth_Date'])"
   ]
  },
  {
   "cell_type": "code",
   "execution_count": 16,
   "metadata": {},
   "outputs": [
    {
     "data": {
      "text/html": "<div>\n<style scoped>\n    .dataframe tbody tr th:only-of-type {\n        vertical-align: middle;\n    }\n\n    .dataframe tbody tr th {\n        vertical-align: top;\n    }\n\n    .dataframe thead th {\n        text-align: right;\n    }\n</style>\n<table border=\"1\" class=\"dataframe\">\n  <thead>\n    <tr style=\"text-align: right;\">\n      <th></th>\n      <th>Name</th>\n      <th>Birth_Date</th>\n      <th>birth_date</th>\n    </tr>\n  </thead>\n  <tbody>\n    <tr>\n      <th>0</th>\n      <td>Tom</td>\n      <td>2016-02-22 14:59:44.561776</td>\n      <td>2016-02-22 14:59:44.561776</td>\n    </tr>\n    <tr>\n      <th>1</th>\n      <td>Kate</td>\n      <td>2017-03-23 15:59:44.561776</td>\n      <td>2017-03-23 15:59:44.561776</td>\n    </tr>\n    <tr>\n      <th>2</th>\n      <td>Mark</td>\n      <td>2018-04-24 16:59:44.561776</td>\n      <td>2018-04-24 16:59:44.561776</td>\n    </tr>\n    <tr>\n      <th>3</th>\n      <td>Ken</td>\n      <td>2019-05-25 17:59:44.561776</td>\n      <td>2019-05-25 17:59:44.561776</td>\n    </tr>\n  </tbody>\n</table>\n</div>",
      "text/plain": "   Name                  Birth_Date                 birth_date\n0   Tom  2016-02-22 14:59:44.561776 2016-02-22 14:59:44.561776\n1  Kate  2017-03-23 15:59:44.561776 2017-03-23 15:59:44.561776\n2  Mark  2018-04-24 16:59:44.561776 2018-04-24 16:59:44.561776\n3   Ken  2019-05-25 17:59:44.561776 2019-05-25 17:59:44.561776"
     },
     "execution_count": 16,
     "metadata": {},
     "output_type": "execute_result"
    }
   ],
   "source": [
    "df"
   ]
  },
  {
   "cell_type": "code",
   "execution_count": 17,
   "metadata": {},
   "outputs": [
    {
     "data": {
      "text/plain": "Name                  object\nBirth_Date            object\nbirth_date    datetime64[ns]\ndtype: object"
     },
     "execution_count": 17,
     "metadata": {},
     "output_type": "execute_result"
    }
   ],
   "source": [
    "df.dtypes"
   ]
  },
  {
   "cell_type": "markdown",
   "execution_count": null,
   "metadata": {},
   "outputs": [],
   "source": [
    "Let split ```birth_date``` column into data and time columns"
   ]
  },
  {
   "cell_type": "code",
   "execution_count": 18,
   "metadata": {},
   "outputs": [],
   "source": [
    "df['Date'] = pd.to_datetime(df['birth_date']).dt.date\n",
    "\n",
    "df['Time'] = pd.to_datetime(df['birth_date']).dt.time"
   ]
  },
  {
   "cell_type": "code",
   "execution_count": 19,
   "metadata": {},
   "outputs": [
    {
     "data": {
      "text/html": "<div>\n<style scoped>\n    .dataframe tbody tr th:only-of-type {\n        vertical-align: middle;\n    }\n\n    .dataframe tbody tr th {\n        vertical-align: top;\n    }\n\n    .dataframe thead th {\n        text-align: right;\n    }\n</style>\n<table border=\"1\" class=\"dataframe\">\n  <thead>\n    <tr style=\"text-align: right;\">\n      <th></th>\n      <th>Name</th>\n      <th>Birth_Date</th>\n      <th>birth_date</th>\n      <th>Date</th>\n      <th>Time</th>\n    </tr>\n  </thead>\n  <tbody>\n    <tr>\n      <th>0</th>\n      <td>Tom</td>\n      <td>2016-02-22 14:59:44.561776</td>\n      <td>2016-02-22 14:59:44.561776</td>\n      <td>2016-02-22</td>\n      <td>14:59:44.561776</td>\n    </tr>\n    <tr>\n      <th>1</th>\n      <td>Kate</td>\n      <td>2017-03-23 15:59:44.561776</td>\n      <td>2017-03-23 15:59:44.561776</td>\n      <td>2017-03-23</td>\n      <td>15:59:44.561776</td>\n    </tr>\n    <tr>\n      <th>2</th>\n      <td>Mark</td>\n      <td>2018-04-24 16:59:44.561776</td>\n      <td>2018-04-24 16:59:44.561776</td>\n      <td>2018-04-24</td>\n      <td>16:59:44.561776</td>\n    </tr>\n    <tr>\n      <th>3</th>\n      <td>Ken</td>\n      <td>2019-05-25 17:59:44.561776</td>\n      <td>2019-05-25 17:59:44.561776</td>\n      <td>2019-05-25</td>\n      <td>17:59:44.561776</td>\n    </tr>\n  </tbody>\n</table>\n</div>",
      "text/plain": "   Name                  Birth_Date                 birth_date        Date  \\\n0   Tom  2016-02-22 14:59:44.561776 2016-02-22 14:59:44.561776  2016-02-22   \n1  Kate  2017-03-23 15:59:44.561776 2017-03-23 15:59:44.561776  2017-03-23   \n2  Mark  2018-04-24 16:59:44.561776 2018-04-24 16:59:44.561776  2018-04-24   \n3   Ken  2019-05-25 17:59:44.561776 2019-05-25 17:59:44.561776  2019-05-25   \n\n              Time  \n0  14:59:44.561776  \n1  15:59:44.561776  \n2  16:59:44.561776  \n3  17:59:44.561776  "
     },
     "execution_count": 19,
     "metadata": {},
     "output_type": "execute_result"
    }
   ],
   "source": [
    "df"
   ]
  },
  {
   "cell_type": "code",
   "execution_count": null,
   "metadata": {},
   "outputs": [],
   "source": []
  }
 ]
}