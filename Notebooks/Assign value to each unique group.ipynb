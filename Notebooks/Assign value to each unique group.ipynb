{
 "nbformat": 4,
 "nbformat_minor": 2,
 "metadata": {
  "language_info": {
   "name": "python",
   "codemirror_mode": {
    "name": "ipython",
    "version": 3
   },
   "version": "3.7.5-final"
  },
  "orig_nbformat": 2,
  "file_extension": ".py",
  "mimetype": "text/x-python",
  "name": "python",
  "npconvert_exporter": "python",
  "pygments_lexer": "ipython3",
  "version": 3,
  "kernelspec": {
   "name": "python37564bit30fc8d6de38b4174a75a9f6bffee875c",
   "display_name": "Python 3.7.5 64-bit"
  }
 },
 "cells": [
  {
   "cell_type": "markdown",
   "metadata": {},
   "source": [
    "# Assing new value for each unique group\n",
    "\n",
    "---\n",
    "\n",
    "In this notebook I'll show how to assing new value for each unique group in Pandas DataFrame"
   ]
  },
  {
   "cell_type": "code",
   "execution_count": 1,
   "metadata": {},
   "outputs": [],
   "source": [
    "import pandas as pd"
   ]
  },
  {
   "cell_type": "markdown",
   "metadata": {},
   "source": [
    "Let create some artificial data as dictionary and then convert if to Pandas DataFrame object"
   ]
  },
  {
   "cell_type": "code",
   "execution_count": 3,
   "metadata": {},
   "outputs": [],
   "source": [
    "data = {'ID': [1, 1, 1, 2, 2, 3, 3],\n",
    "        'class': ['Lower', 'Moderate', 'Moderate', 'Lower', 'High', 'High', 'Lower']}"
   ]
  },
  {
   "cell_type": "code",
   "execution_count": 4,
   "metadata": {},
   "outputs": [
    {
     "data": {
      "text/html": "<div>\n<style scoped>\n    .dataframe tbody tr th:only-of-type {\n        vertical-align: middle;\n    }\n\n    .dataframe tbody tr th {\n        vertical-align: top;\n    }\n\n    .dataframe thead th {\n        text-align: right;\n    }\n</style>\n<table border=\"1\" class=\"dataframe\">\n  <thead>\n    <tr style=\"text-align: right;\">\n      <th></th>\n      <th>ID</th>\n      <th>class</th>\n    </tr>\n  </thead>\n  <tbody>\n    <tr>\n      <th>0</th>\n      <td>1</td>\n      <td>Lower</td>\n    </tr>\n    <tr>\n      <th>1</th>\n      <td>1</td>\n      <td>Moderate</td>\n    </tr>\n    <tr>\n      <th>2</th>\n      <td>1</td>\n      <td>Moderate</td>\n    </tr>\n    <tr>\n      <th>3</th>\n      <td>2</td>\n      <td>Lower</td>\n    </tr>\n    <tr>\n      <th>4</th>\n      <td>2</td>\n      <td>High</td>\n    </tr>\n    <tr>\n      <th>5</th>\n      <td>3</td>\n      <td>High</td>\n    </tr>\n    <tr>\n      <th>6</th>\n      <td>3</td>\n      <td>Lower</td>\n    </tr>\n  </tbody>\n</table>\n</div>",
      "text/plain": "   ID     class\n0   1     Lower\n1   1  Moderate\n2   1  Moderate\n3   2     Lower\n4   2      High\n5   3      High\n6   3     Lower"
     },
     "execution_count": 4,
     "metadata": {},
     "output_type": "execute_result"
    }
   ],
   "source": [
    "df = pd.DataFrame(data)\n",
    "\n",
    "df"
   ]
  },
  {
   "cell_type": "markdown",
   "metadata": {},
   "source": [
    "Now, let assign new values according to ```class``` column and then rearrange ```class``` column in order to assign new group names"
   ]
  },
  {
   "cell_type": "code",
   "execution_count": 5,
   "metadata": {},
   "outputs": [
    {
     "data": {
      "text/html": "<div>\n<style scoped>\n    .dataframe tbody tr th:only-of-type {\n        vertical-align: middle;\n    }\n\n    .dataframe tbody tr th {\n        vertical-align: top;\n    }\n\n    .dataframe thead th {\n        text-align: right;\n    }\n</style>\n<table border=\"1\" class=\"dataframe\">\n  <thead>\n    <tr style=\"text-align: right;\">\n      <th></th>\n      <th>ID</th>\n      <th>class</th>\n      <th>new</th>\n    </tr>\n  </thead>\n  <tbody>\n    <tr>\n      <th>0</th>\n      <td>1</td>\n      <td>Lower</td>\n      <td>33</td>\n    </tr>\n    <tr>\n      <th>1</th>\n      <td>1</td>\n      <td>Moderate</td>\n      <td>34</td>\n    </tr>\n    <tr>\n      <th>2</th>\n      <td>1</td>\n      <td>Moderate</td>\n      <td>34</td>\n    </tr>\n    <tr>\n      <th>3</th>\n      <td>2</td>\n      <td>Lower</td>\n      <td>33</td>\n    </tr>\n    <tr>\n      <th>4</th>\n      <td>2</td>\n      <td>High</td>\n      <td>40</td>\n    </tr>\n    <tr>\n      <th>5</th>\n      <td>3</td>\n      <td>High</td>\n      <td>40</td>\n    </tr>\n    <tr>\n      <th>6</th>\n      <td>3</td>\n      <td>Lower</td>\n      <td>33</td>\n    </tr>\n  </tbody>\n</table>\n</div>",
      "text/plain": "   ID     class  new\n0   1     Lower   33\n1   1  Moderate   34\n2   1  Moderate   34\n3   2     Lower   33\n4   2      High   40\n5   3      High   40\n6   3     Lower   33"
     },
     "execution_count": 5,
     "metadata": {},
     "output_type": "execute_result"
    }
   ],
   "source": [
    "value_map = {'Lower':33, 'Moderate':34, 'High': 40}\n",
    "\n",
    "df['new'] = df['class'].map(value_map)\n",
    "\n",
    "df"
   ]
  },
  {
   "cell_type": "code",
   "execution_count": 9,
   "metadata": {},
   "outputs": [
    {
     "data": {
      "text/html": "<div>\n<style scoped>\n    .dataframe tbody tr th:only-of-type {\n        vertical-align: middle;\n    }\n\n    .dataframe tbody tr th {\n        vertical-align: top;\n    }\n\n    .dataframe thead th {\n        text-align: right;\n    }\n</style>\n<table border=\"1\" class=\"dataframe\">\n  <thead>\n    <tr style=\"text-align: right;\">\n      <th></th>\n      <th>ID</th>\n      <th>class</th>\n      <th>new</th>\n      <th>Max</th>\n    </tr>\n  </thead>\n  <tbody>\n    <tr>\n      <th>0</th>\n      <td>1</td>\n      <td>Lower</td>\n      <td>33</td>\n      <td>Moderate</td>\n    </tr>\n    <tr>\n      <th>1</th>\n      <td>1</td>\n      <td>Moderate</td>\n      <td>34</td>\n      <td>Moderate</td>\n    </tr>\n    <tr>\n      <th>2</th>\n      <td>1</td>\n      <td>Moderate</td>\n      <td>34</td>\n      <td>Moderate</td>\n    </tr>\n    <tr>\n      <th>3</th>\n      <td>2</td>\n      <td>Lower</td>\n      <td>33</td>\n      <td>High</td>\n    </tr>\n    <tr>\n      <th>4</th>\n      <td>2</td>\n      <td>High</td>\n      <td>40</td>\n      <td>High</td>\n    </tr>\n    <tr>\n      <th>5</th>\n      <td>3</td>\n      <td>High</td>\n      <td>40</td>\n      <td>High</td>\n    </tr>\n    <tr>\n      <th>6</th>\n      <td>3</td>\n      <td>Lower</td>\n      <td>33</td>\n      <td>High</td>\n    </tr>\n  </tbody>\n</table>\n</div>",
      "text/plain": "   ID     class  new       Max\n0   1     Lower   33  Moderate\n1   1  Moderate   34  Moderate\n2   1  Moderate   34  Moderate\n3   2     Lower   33      High\n4   2      High   40      High\n5   3      High   40      High\n6   3     Lower   33      High"
     },
     "execution_count": 9,
     "metadata": {},
     "output_type": "execute_result"
    }
   ],
   "source": [
    "df['Max'] = df.set_index('class').groupby('ID')['new'].transform('idxmax').values\n",
    "\n",
    "df"
   ]
  },
  {
   "cell_type": "markdown",
   "metadata": {},
   "source": [
    "If we want only first values per group"
   ]
  },
  {
   "cell_type": "code",
   "execution_count": 10,
   "metadata": {},
   "outputs": [
    {
     "data": {
      "text/html": "<div>\n<style scoped>\n    .dataframe tbody tr th:only-of-type {\n        vertical-align: middle;\n    }\n\n    .dataframe tbody tr th {\n        vertical-align: top;\n    }\n\n    .dataframe thead th {\n        text-align: right;\n    }\n</style>\n<table border=\"1\" class=\"dataframe\">\n  <thead>\n    <tr style=\"text-align: right;\">\n      <th></th>\n      <th>ID</th>\n      <th>class</th>\n      <th>new</th>\n      <th>Max</th>\n    </tr>\n  </thead>\n  <tbody>\n    <tr>\n      <th>0</th>\n      <td>1</td>\n      <td>Lower</td>\n      <td>33</td>\n      <td>Moderate</td>\n    </tr>\n    <tr>\n      <th>1</th>\n      <td>1</td>\n      <td>Moderate</td>\n      <td>34</td>\n      <td></td>\n    </tr>\n    <tr>\n      <th>2</th>\n      <td>1</td>\n      <td>Moderate</td>\n      <td>34</td>\n      <td></td>\n    </tr>\n    <tr>\n      <th>3</th>\n      <td>2</td>\n      <td>Lower</td>\n      <td>33</td>\n      <td>High</td>\n    </tr>\n    <tr>\n      <th>4</th>\n      <td>2</td>\n      <td>High</td>\n      <td>40</td>\n      <td></td>\n    </tr>\n    <tr>\n      <th>5</th>\n      <td>3</td>\n      <td>High</td>\n      <td>40</td>\n      <td>High</td>\n    </tr>\n    <tr>\n      <th>6</th>\n      <td>3</td>\n      <td>Lower</td>\n      <td>33</td>\n      <td></td>\n    </tr>\n  </tbody>\n</table>\n</div>",
      "text/plain": "   ID     class  new       Max\n0   1     Lower   33  Moderate\n1   1  Moderate   34          \n2   1  Moderate   34          \n3   2     Lower   33      High\n4   2      High   40          \n5   3      High   40      High\n6   3     Lower   33          "
     },
     "execution_count": 10,
     "metadata": {},
     "output_type": "execute_result"
    }
   ],
   "source": [
    "df['Max'] = df['Max'].mask(df['ID'].duplicated(), '')\n",
    "\n",
    "df"
   ]
  },
  {
   "cell_type": "code",
   "execution_count": null,
   "metadata": {},
   "outputs": [],
   "source": []
  }
 ]
}