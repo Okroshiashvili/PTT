{
 "nbformat": 4,
 "nbformat_minor": 2,
 "metadata": {
  "language_info": {
   "name": "python",
   "codemirror_mode": {
    "name": "ipython",
    "version": 3
   },
   "version": "3.7.5-final"
  },
  "orig_nbformat": 2,
  "file_extension": ".py",
  "mimetype": "text/x-python",
  "name": "python",
  "npconvert_exporter": "python",
  "pygments_lexer": "ipython3",
  "version": 3,
  "kernelspec": {
   "name": "python37564bitpandasconda46ae5c7cd3ce4633b20b3219cca00c78",
   "display_name": "Python 3.7.5 64-bit ('pandas': conda)"
  }
 },
 "cells": [
  {
   "cell_type": "markdown",
   "execution_count": null,
   "metadata": {},
   "outputs": [],
   "source": [
    "# How can we conver long data format into wide data format\n",
    "\n",
    "---\n",
    "\n",
    "In this notebook I'll show you how you can convert long dataframe into wide dataframe with repetitive values in all column"
   ]
  },
  {
   "cell_type": "code",
   "execution_count": 1,
   "metadata": {},
   "outputs": [],
   "source": [
    "import pandas as pd\n",
    "import numpy as np"
   ]
  },
  {
   "cell_type": "markdown",
   "execution_count": null,
   "metadata": {},
   "outputs": [],
   "source": [
    "Let create some artificial data as dictionary and then convert if to Pandas DataFrame object"
   ]
  },
  {
   "cell_type": "code",
   "execution_count": 2,
   "metadata": {},
   "outputs": [],
   "source": [
    "data = {'customer': ['Store_A']*12,\n",
    "        'class': ['1A','1A','2B','2B','3C','3C']*2,\n",
    "        'week':['19/08/2018','26/08/2018']*6, \n",
    "        'type':['Food']*6 + ['Beverage']*6, \n",
    "        'value': [np.nan,np.nan,1,1.5,1.1,1.2,np.nan,np.nan,0.96,0.70,0.96,0.96]}"
   ]
  },
  {
   "cell_type": "code",
   "execution_count": 3,
   "metadata": {},
   "outputs": [],
   "source": [
    "df = pd.DataFrame(data)"
   ]
  },
  {
   "cell_type": "code",
   "execution_count": 4,
   "metadata": {},
   "outputs": [
    {
     "data": {
      "text/html": "<div>\n<style scoped>\n    .dataframe tbody tr th:only-of-type {\n        vertical-align: middle;\n    }\n\n    .dataframe tbody tr th {\n        vertical-align: top;\n    }\n\n    .dataframe thead th {\n        text-align: right;\n    }\n</style>\n<table border=\"1\" class=\"dataframe\">\n  <thead>\n    <tr style=\"text-align: right;\">\n      <th></th>\n      <th>customer</th>\n      <th>class</th>\n      <th>week</th>\n      <th>type</th>\n      <th>value</th>\n    </tr>\n  </thead>\n  <tbody>\n    <tr>\n      <th>0</th>\n      <td>Store_A</td>\n      <td>1A</td>\n      <td>19/08/2018</td>\n      <td>Food</td>\n      <td>NaN</td>\n    </tr>\n    <tr>\n      <th>1</th>\n      <td>Store_A</td>\n      <td>1A</td>\n      <td>26/08/2018</td>\n      <td>Food</td>\n      <td>NaN</td>\n    </tr>\n    <tr>\n      <th>2</th>\n      <td>Store_A</td>\n      <td>2B</td>\n      <td>19/08/2018</td>\n      <td>Food</td>\n      <td>1.00</td>\n    </tr>\n    <tr>\n      <th>3</th>\n      <td>Store_A</td>\n      <td>2B</td>\n      <td>26/08/2018</td>\n      <td>Food</td>\n      <td>1.50</td>\n    </tr>\n    <tr>\n      <th>4</th>\n      <td>Store_A</td>\n      <td>3C</td>\n      <td>19/08/2018</td>\n      <td>Food</td>\n      <td>1.10</td>\n    </tr>\n    <tr>\n      <th>5</th>\n      <td>Store_A</td>\n      <td>3C</td>\n      <td>26/08/2018</td>\n      <td>Food</td>\n      <td>1.20</td>\n    </tr>\n    <tr>\n      <th>6</th>\n      <td>Store_A</td>\n      <td>1A</td>\n      <td>19/08/2018</td>\n      <td>Beverage</td>\n      <td>NaN</td>\n    </tr>\n    <tr>\n      <th>7</th>\n      <td>Store_A</td>\n      <td>1A</td>\n      <td>26/08/2018</td>\n      <td>Beverage</td>\n      <td>NaN</td>\n    </tr>\n    <tr>\n      <th>8</th>\n      <td>Store_A</td>\n      <td>2B</td>\n      <td>19/08/2018</td>\n      <td>Beverage</td>\n      <td>0.96</td>\n    </tr>\n    <tr>\n      <th>9</th>\n      <td>Store_A</td>\n      <td>2B</td>\n      <td>26/08/2018</td>\n      <td>Beverage</td>\n      <td>0.70</td>\n    </tr>\n    <tr>\n      <th>10</th>\n      <td>Store_A</td>\n      <td>3C</td>\n      <td>19/08/2018</td>\n      <td>Beverage</td>\n      <td>0.96</td>\n    </tr>\n    <tr>\n      <th>11</th>\n      <td>Store_A</td>\n      <td>3C</td>\n      <td>26/08/2018</td>\n      <td>Beverage</td>\n      <td>0.96</td>\n    </tr>\n  </tbody>\n</table>\n</div>",
      "text/plain": "   customer class        week      type  value\n0   Store_A    1A  19/08/2018      Food    NaN\n1   Store_A    1A  26/08/2018      Food    NaN\n2   Store_A    2B  19/08/2018      Food   1.00\n3   Store_A    2B  26/08/2018      Food   1.50\n4   Store_A    3C  19/08/2018      Food   1.10\n5   Store_A    3C  26/08/2018      Food   1.20\n6   Store_A    1A  19/08/2018  Beverage    NaN\n7   Store_A    1A  26/08/2018  Beverage    NaN\n8   Store_A    2B  19/08/2018  Beverage   0.96\n9   Store_A    2B  26/08/2018  Beverage   0.70\n10  Store_A    3C  19/08/2018  Beverage   0.96\n11  Store_A    3C  26/08/2018  Beverage   0.96"
     },
     "execution_count": 4,
     "metadata": {},
     "output_type": "execute_result"
    }
   ],
   "source": [
    "df"
   ]
  },
  {
   "cell_type": "markdown",
   "execution_count": null,
   "metadata": {},
   "outputs": [],
   "source": [
    "In our ```DataFrame``` we have several columns with very few unqiue values. Our aim is to convert it into wide format. Namely, we want to move rows underneath that have same ```customer```, ```week```, and ```type``` to be on 1 single row. In other words, we want to wipe rows starting from index 6 and concatenate what's left along axis one. Our desirable format looks like the following:"
   ]
  },
  {
   "cell_type": "code",
   "execution_count": 5,
   "metadata": {},
   "outputs": [],
   "source": [
    "d = {'customer': ['Store_A']*4,\n",
    "    'week':['08/19/2018','08/26/2018']*2,\n",
    "    'type':['Food']*2 + ['Beverage']*2,\n",
    "     'class_1': ['1A','1A','1A', '1A'],\n",
    "     'value_1': [np.nan, np.nan, np.nan, np.nan],\n",
    "     'class_2': ['2B','2B', '2B', '2B'],\n",
    "     'value_2': [1, 1.5, 0.96, 0.7],\n",
    "     'class_3': ['3C','3C', '3C', '3C'],\n",
    "     'value_3': [1.1, 1.2, 0.96, 0.96]}"
   ]
  },
  {
   "cell_type": "code",
   "execution_count": 6,
   "metadata": {},
   "outputs": [
    {
     "data": {
      "text/html": "<div>\n<style scoped>\n    .dataframe tbody tr th:only-of-type {\n        vertical-align: middle;\n    }\n\n    .dataframe tbody tr th {\n        vertical-align: top;\n    }\n\n    .dataframe thead th {\n        text-align: right;\n    }\n</style>\n<table border=\"1\" class=\"dataframe\">\n  <thead>\n    <tr style=\"text-align: right;\">\n      <th></th>\n      <th>customer</th>\n      <th>week</th>\n      <th>type</th>\n      <th>class_1</th>\n      <th>value_1</th>\n      <th>class_2</th>\n      <th>value_2</th>\n      <th>class_3</th>\n      <th>value_3</th>\n    </tr>\n  </thead>\n  <tbody>\n    <tr>\n      <th>0</th>\n      <td>Store_A</td>\n      <td>08/19/2018</td>\n      <td>Food</td>\n      <td>1A</td>\n      <td>NaN</td>\n      <td>2B</td>\n      <td>1.00</td>\n      <td>3C</td>\n      <td>1.10</td>\n    </tr>\n    <tr>\n      <th>1</th>\n      <td>Store_A</td>\n      <td>08/26/2018</td>\n      <td>Food</td>\n      <td>1A</td>\n      <td>NaN</td>\n      <td>2B</td>\n      <td>1.50</td>\n      <td>3C</td>\n      <td>1.20</td>\n    </tr>\n    <tr>\n      <th>2</th>\n      <td>Store_A</td>\n      <td>08/19/2018</td>\n      <td>Beverage</td>\n      <td>1A</td>\n      <td>NaN</td>\n      <td>2B</td>\n      <td>0.96</td>\n      <td>3C</td>\n      <td>0.96</td>\n    </tr>\n    <tr>\n      <th>3</th>\n      <td>Store_A</td>\n      <td>08/26/2018</td>\n      <td>Beverage</td>\n      <td>1A</td>\n      <td>NaN</td>\n      <td>2B</td>\n      <td>0.70</td>\n      <td>3C</td>\n      <td>0.96</td>\n    </tr>\n  </tbody>\n</table>\n</div>",
      "text/plain": "  customer        week      type class_1  value_1 class_2  value_2 class_3  \\\n0  Store_A  08/19/2018      Food      1A      NaN      2B     1.00      3C   \n1  Store_A  08/26/2018      Food      1A      NaN      2B     1.50      3C   \n2  Store_A  08/19/2018  Beverage      1A      NaN      2B     0.96      3C   \n3  Store_A  08/26/2018  Beverage      1A      NaN      2B     0.70      3C   \n\n   value_3  \n0     1.10  \n1     1.20  \n2     0.96  \n3     0.96  "
     },
     "execution_count": 6,
     "metadata": {},
     "output_type": "execute_result"
    }
   ],
   "source": [
    "pd.DataFrame(d)"
   ]
  },
  {
   "cell_type": "markdown",
   "execution_count": null,
   "metadata": {},
   "outputs": [],
   "source": [
    "So, to solve this problem and avoid duplicate index values we can use ```cumcount``` as a counter, then ```groupby``` with three columns, which are ```['customer', 'week', 'type']``` then set new index by using these three columns and groupby object and then reset index."
   ]
  },
  {
   "cell_type": "code",
   "execution_count": 7,
   "metadata": {},
   "outputs": [
    {
     "data": {
      "text/html": "<div>\n<style scoped>\n    .dataframe tbody tr th:only-of-type {\n        vertical-align: middle;\n    }\n\n    .dataframe tbody tr th {\n        vertical-align: top;\n    }\n\n    .dataframe thead th {\n        text-align: right;\n    }\n</style>\n<table border=\"1\" class=\"dataframe\">\n  <thead>\n    <tr style=\"text-align: right;\">\n      <th></th>\n      <th>customer</th>\n      <th>week</th>\n      <th>type</th>\n      <th>class_1</th>\n      <th>value_1</th>\n      <th>class_2</th>\n      <th>value_2</th>\n      <th>class_3</th>\n      <th>value_3</th>\n    </tr>\n  </thead>\n  <tbody>\n    <tr>\n      <th>0</th>\n      <td>Store_A</td>\n      <td>19/08/2018</td>\n      <td>Beverage</td>\n      <td>1A</td>\n      <td>NaN</td>\n      <td>2B</td>\n      <td>0.96</td>\n      <td>3C</td>\n      <td>0.96</td>\n    </tr>\n    <tr>\n      <th>1</th>\n      <td>Store_A</td>\n      <td>19/08/2018</td>\n      <td>Food</td>\n      <td>1A</td>\n      <td>NaN</td>\n      <td>2B</td>\n      <td>1.00</td>\n      <td>3C</td>\n      <td>1.10</td>\n    </tr>\n    <tr>\n      <th>2</th>\n      <td>Store_A</td>\n      <td>26/08/2018</td>\n      <td>Beverage</td>\n      <td>1A</td>\n      <td>NaN</td>\n      <td>2B</td>\n      <td>0.70</td>\n      <td>3C</td>\n      <td>0.96</td>\n    </tr>\n    <tr>\n      <th>3</th>\n      <td>Store_A</td>\n      <td>26/08/2018</td>\n      <td>Food</td>\n      <td>1A</td>\n      <td>NaN</td>\n      <td>2B</td>\n      <td>1.50</td>\n      <td>3C</td>\n      <td>1.20</td>\n    </tr>\n  </tbody>\n</table>\n</div>",
      "text/plain": "  customer        week      type class_1  value_1 class_2  value_2 class_3  \\\n0  Store_A  19/08/2018  Beverage      1A      NaN      2B     0.96      3C   \n1  Store_A  19/08/2018      Food      1A      NaN      2B     1.00      3C   \n2  Store_A  26/08/2018  Beverage      1A      NaN      2B     0.70      3C   \n3  Store_A  26/08/2018      Food      1A      NaN      2B     1.50      3C   \n\n   value_3  \n0     0.96  \n1     1.10  \n2     0.96  \n3     1.20  "
     },
     "execution_count": 7,
     "metadata": {},
     "output_type": "execute_result"
    }
   ],
   "source": [
    "# Groupby\n",
    "g = (df.groupby(['customer','week', 'type']).cumcount() + 1).astype(str)\n",
    "\n",
    "# Set new index\n",
    "new_df = df.set_index(['customer', 'week', 'type', g]).unstack().sort_index(level=1, axis=1)\n",
    "\n",
    "# Change column names\n",
    "new_df.columns = new_df.columns.map('_'.join)\n",
    "\n",
    "# Reset multiindex\n",
    "new_df.reset_index(inplace=True)\n",
    "\n",
    "new_df"
   ]
  },
  {
   "cell_type": "code",
   "execution_count": null,
   "metadata": {},
   "outputs": [],
   "source": []
  }
 ]
}