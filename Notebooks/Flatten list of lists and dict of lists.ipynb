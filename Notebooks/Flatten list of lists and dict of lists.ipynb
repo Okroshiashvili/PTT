{
 "nbformat": 4,
 "nbformat_minor": 2,
 "metadata": {
  "language_info": {
   "name": "python",
   "codemirror_mode": {
    "name": "ipython",
    "version": 3
   },
   "version": "3.7.6-final"
  },
  "orig_nbformat": 2,
  "file_extension": ".py",
  "mimetype": "text/x-python",
  "name": "python",
  "npconvert_exporter": "python",
  "pygments_lexer": "ipython3",
  "version": 3,
  "kernelspec": {
   "name": "python37664bitdatasciencelabconda0fd49a64f6324eb7b207e0b953e11dcf",
   "display_name": "Python 3.7.6 64-bit ('data_science_lab': conda)"
  }
 },
 "cells": [
  {
   "cell_type": "markdown",
   "metadata": {},
   "source": [
    "# Flatten list of lists and dict of lists in Pandas DataFrame\n",
    "\n",
    "---\n",
    "\n",
    "In this notebook, I will show you how to flatten a list of lists or dict of lists in DataFrame. In flatten, I mean how to unpack nested lists or dictionaries and make them look tabular."
   ],
   "execution_count": null,
   "outputs": []
  },
  {
   "cell_type": "code",
   "execution_count": 1,
   "metadata": {},
   "outputs": [],
   "source": [
    "import pandas as pd\n",
    "\n",
    "from collections import defaultdict"
   ]
  },
  {
   "cell_type": "code",
   "execution_count": 2,
   "metadata": {},
   "outputs": [],
   "source": [
    "data = {\"company_name\": ['A', 'B', 'C', 'D'],\n",
    "        \"info\": [\n",
    "[['Name', 'David Jones'],['Title', 'CEO'],['Phone', '207-685-1626'],['Email', 'djones@example.org']],\n",
    "\n",
    "[['Name', 'Kate Brown'],['Title', 'Senior Lawyer'],['Phone', '316-978-7791'],\n",
    "['Email', 'Kate.Brown@example.edu'],['Name', 'Darin White'],['Title', 'Associate Vice President'],\n",
    "['Phone', '316-978-3887'],['Email', 'Darin.White@example.edu']],\n",
    "\n",
    "[['Name', 'Carl Clark'],['Title', 'Chief Operating Officer'],\n",
    "['Phone', '413-534-2745'],['Email', 'Clark_Carl@example.com']],\n",
    "\n",
    "[['Name', 'Taylor Garcia'], ['Title', 'Board Member'],['Phone', '307-733-2164'],\n",
    "['Email', 'Garcia@example.org']]\n",
    "        ]\n",
    "}"
   ]
  },
  {
   "cell_type": "code",
   "execution_count": 3,
   "metadata": {},
   "outputs": [
    {
     "output_type": "execute_result",
     "data": {
      "text/plain": "  company_name                                               info\n0            A  [[Name, David Jones], [Title, CEO], [Phone, 20...\n1            B  [[Name, Kate Brown], [Title, Senior Lawyer], [...\n2            C  [[Name, Carl Clark], [Title, Chief Operating O...\n3            D  [[Name, Taylor Garcia], [Title, Board Member],...",
      "text/html": "<div>\n<style scoped>\n    .dataframe tbody tr th:only-of-type {\n        vertical-align: middle;\n    }\n\n    .dataframe tbody tr th {\n        vertical-align: top;\n    }\n\n    .dataframe thead th {\n        text-align: right;\n    }\n</style>\n<table border=\"1\" class=\"dataframe\">\n  <thead>\n    <tr style=\"text-align: right;\">\n      <th></th>\n      <th>company_name</th>\n      <th>info</th>\n    </tr>\n  </thead>\n  <tbody>\n    <tr>\n      <th>0</th>\n      <td>A</td>\n      <td>[[Name, David Jones], [Title, CEO], [Phone, 20...</td>\n    </tr>\n    <tr>\n      <th>1</th>\n      <td>B</td>\n      <td>[[Name, Kate Brown], [Title, Senior Lawyer], [...</td>\n    </tr>\n    <tr>\n      <th>2</th>\n      <td>C</td>\n      <td>[[Name, Carl Clark], [Title, Chief Operating O...</td>\n    </tr>\n    <tr>\n      <th>3</th>\n      <td>D</td>\n      <td>[[Name, Taylor Garcia], [Title, Board Member],...</td>\n    </tr>\n  </tbody>\n</table>\n</div>"
     },
     "metadata": {},
     "execution_count": 3
    }
   ],
   "source": [
    "df = pd.DataFrame(data)\n",
    "\n",
    "df"
   ]
  },
  {
   "cell_type": "code",
   "execution_count": 4,
   "metadata": {},
   "outputs": [
    {
     "output_type": "execute_result",
     "data": {
      "text/plain": "[['Name', 'Carl Clark'],\n ['Title', 'Chief Operating Officer'],\n ['Phone', '413-534-2745'],\n ['Email', 'Clark_Carl@example.com']]"
     },
     "metadata": {},
     "execution_count": 4
    }
   ],
   "source": [
    "df['info'].iloc[2]"
   ]
  },
  {
   "cell_type": "markdown",
   "metadata": {},
   "source": [
    "As we see, we have a list of lists in ```info``` column. We aim to present this list of lists in tabular format. In other words, we have to make new DataFrame from this list of lists."
   ],
   "execution_count": null,
   "outputs": []
  },
  {
   "cell_type": "code",
   "execution_count": 5,
   "metadata": {},
   "outputs": [
    {
     "output_type": "execute_result",
     "data": {
      "text/plain": "  company_name                         info\n0            A          [Name, David Jones]\n0            A                 [Title, CEO]\n0            A        [Phone, 207-685-1626]\n0            A  [Email, djones@example.org]\n1            B           [Name, Kate Brown]",
      "text/html": "<div>\n<style scoped>\n    .dataframe tbody tr th:only-of-type {\n        vertical-align: middle;\n    }\n\n    .dataframe tbody tr th {\n        vertical-align: top;\n    }\n\n    .dataframe thead th {\n        text-align: right;\n    }\n</style>\n<table border=\"1\" class=\"dataframe\">\n  <thead>\n    <tr style=\"text-align: right;\">\n      <th></th>\n      <th>company_name</th>\n      <th>info</th>\n    </tr>\n  </thead>\n  <tbody>\n    <tr>\n      <th>0</th>\n      <td>A</td>\n      <td>[Name, David Jones]</td>\n    </tr>\n    <tr>\n      <th>0</th>\n      <td>A</td>\n      <td>[Title, CEO]</td>\n    </tr>\n    <tr>\n      <th>0</th>\n      <td>A</td>\n      <td>[Phone, 207-685-1626]</td>\n    </tr>\n    <tr>\n      <th>0</th>\n      <td>A</td>\n      <td>[Email, djones@example.org]</td>\n    </tr>\n    <tr>\n      <th>1</th>\n      <td>B</td>\n      <td>[Name, Kate Brown]</td>\n    </tr>\n  </tbody>\n</table>\n</div>"
     },
     "metadata": {},
     "execution_count": 5
    }
   ],
   "source": [
    "df_exploded = df.explode('info')\n",
    "\n",
    "df_exploded.head()"
   ]
  },
  {
   "cell_type": "markdown",
   "metadata": {},
   "source": [
    "Using ```.explode()``` method gave us only inner lists. Notice that inner lists have only two elements, and we can use list slicing to separate them and transform the whole DataFrame. To do so, we have to add two helper columns."
   ],
   "execution_count": null,
   "outputs": []
  },
  {
   "cell_type": "code",
   "execution_count": 6,
   "metadata": {},
   "outputs": [
    {
     "output_type": "execute_result",
     "data": {
      "text/plain": "  company_name                         info    tag              result\n0            A          [Name, David Jones]   Name         David Jones\n0            A                 [Title, CEO]  Title                 CEO\n0            A        [Phone, 207-685-1626]  Phone        207-685-1626\n0            A  [Email, djones@example.org]  Email  djones@example.org\n1            B           [Name, Kate Brown]   Name          Kate Brown",
      "text/html": "<div>\n<style scoped>\n    .dataframe tbody tr th:only-of-type {\n        vertical-align: middle;\n    }\n\n    .dataframe tbody tr th {\n        vertical-align: top;\n    }\n\n    .dataframe thead th {\n        text-align: right;\n    }\n</style>\n<table border=\"1\" class=\"dataframe\">\n  <thead>\n    <tr style=\"text-align: right;\">\n      <th></th>\n      <th>company_name</th>\n      <th>info</th>\n      <th>tag</th>\n      <th>result</th>\n    </tr>\n  </thead>\n  <tbody>\n    <tr>\n      <th>0</th>\n      <td>A</td>\n      <td>[Name, David Jones]</td>\n      <td>Name</td>\n      <td>David Jones</td>\n    </tr>\n    <tr>\n      <th>0</th>\n      <td>A</td>\n      <td>[Title, CEO]</td>\n      <td>Title</td>\n      <td>CEO</td>\n    </tr>\n    <tr>\n      <th>0</th>\n      <td>A</td>\n      <td>[Phone, 207-685-1626]</td>\n      <td>Phone</td>\n      <td>207-685-1626</td>\n    </tr>\n    <tr>\n      <th>0</th>\n      <td>A</td>\n      <td>[Email, djones@example.org]</td>\n      <td>Email</td>\n      <td>djones@example.org</td>\n    </tr>\n    <tr>\n      <th>1</th>\n      <td>B</td>\n      <td>[Name, Kate Brown]</td>\n      <td>Name</td>\n      <td>Kate Brown</td>\n    </tr>\n  </tbody>\n</table>\n</div>"
     },
     "metadata": {},
     "execution_count": 6
    }
   ],
   "source": [
    "df_exploded.loc[:, 'tag'] = df_exploded['info'].map(lambda x: x[0])\n",
    "\n",
    "df_exploded.loc[:, 'result'] = df_exploded['info'].map(lambda x: x[1])\n",
    "\n",
    "df_exploded.head()"
   ]
  },
  {
   "cell_type": "code",
   "execution_count": 7,
   "metadata": {},
   "outputs": [
    {
     "output_type": "execute_result",
     "data": {
      "text/plain": "tag company_name                    Email           Name         Phone  \\\n0              A       djones@example.org    David Jones  207-685-1626   \n1              B   Kate.Brown@example.edu     Kate Brown  316-978-7791   \n2              B  Darin.White@example.edu    Darin White  316-978-3887   \n3              C   Clark_Carl@example.com     Carl Clark  413-534-2745   \n4              D       Garcia@example.org  Taylor Garcia  307-733-2164   \n\ntag                     Title  \n0                         CEO  \n1               Senior Lawyer  \n2    Associate Vice President  \n3     Chief Operating Officer  \n4                Board Member  ",
      "text/html": "<div>\n<style scoped>\n    .dataframe tbody tr th:only-of-type {\n        vertical-align: middle;\n    }\n\n    .dataframe tbody tr th {\n        vertical-align: top;\n    }\n\n    .dataframe thead th {\n        text-align: right;\n    }\n</style>\n<table border=\"1\" class=\"dataframe\">\n  <thead>\n    <tr style=\"text-align: right;\">\n      <th>tag</th>\n      <th>company_name</th>\n      <th>Email</th>\n      <th>Name</th>\n      <th>Phone</th>\n      <th>Title</th>\n    </tr>\n  </thead>\n  <tbody>\n    <tr>\n      <th>0</th>\n      <td>A</td>\n      <td>djones@example.org</td>\n      <td>David Jones</td>\n      <td>207-685-1626</td>\n      <td>CEO</td>\n    </tr>\n    <tr>\n      <th>1</th>\n      <td>B</td>\n      <td>Kate.Brown@example.edu</td>\n      <td>Kate Brown</td>\n      <td>316-978-7791</td>\n      <td>Senior Lawyer</td>\n    </tr>\n    <tr>\n      <th>2</th>\n      <td>B</td>\n      <td>Darin.White@example.edu</td>\n      <td>Darin White</td>\n      <td>316-978-3887</td>\n      <td>Associate Vice President</td>\n    </tr>\n    <tr>\n      <th>3</th>\n      <td>C</td>\n      <td>Clark_Carl@example.com</td>\n      <td>Carl Clark</td>\n      <td>413-534-2745</td>\n      <td>Chief Operating Officer</td>\n    </tr>\n    <tr>\n      <th>4</th>\n      <td>D</td>\n      <td>Garcia@example.org</td>\n      <td>Taylor Garcia</td>\n      <td>307-733-2164</td>\n      <td>Board Member</td>\n    </tr>\n  </tbody>\n</table>\n</div>"
     },
     "metadata": {},
     "execution_count": 7
    }
   ],
   "source": [
    "# Make some transofrmation to get desired DataFrame\n",
    "\n",
    "(df_exploded.groupby(['company_name', 'tag'])['result'] # Groupby\n",
    "            .apply(lambda x: pd.Series(x.values)) # Apply Pandas Series to each value\n",
    "            .unstack(1) # Unstack them\n",
    "            .reset_index() # Reset index, which is \"company_name\" column\n",
    "            .drop(['level_1'], axis=1) # Drop unnecessary column\n",
    ")"
   ]
  },
  {
   "cell_type": "markdown",
   "metadata": {},
   "source": [
    "We successfully transformed a list of lists into a tabular format. Now let, convert the initial list of lists into dict of lists, where the key is the value of the \"tag\" column and value is the list of \"result\" column."
   ],
   "execution_count": null,
   "outputs": []
  },
  {
   "cell_type": "code",
   "execution_count": 8,
   "metadata": {},
   "outputs": [],
   "source": [
    "# Convert list of lists into dict of lists\n",
    "\n",
    "\n",
    "out = []\n",
    "\n",
    "\n",
    "for x in df['info'].tolist():\n",
    "    groups = defaultdict(list)\n",
    "    for g, v in x:\n",
    "        groups[g].append(v)\n",
    "    out.append(dict(groups))\n",
    "\n",
    "\n",
    "df.loc[:, 'new_info'] = out"
   ]
  },
  {
   "cell_type": "code",
   "execution_count": 9,
   "metadata": {},
   "outputs": [
    {
     "output_type": "execute_result",
     "data": {
      "text/plain": "  company_name                                               info  \\\n0            A  [[Name, David Jones], [Title, CEO], [Phone, 20...   \n1            B  [[Name, Kate Brown], [Title, Senior Lawyer], [...   \n2            C  [[Name, Carl Clark], [Title, Chief Operating O...   \n3            D  [[Name, Taylor Garcia], [Title, Board Member],...   \n\n                                            new_info  \n0  {'Name': ['David Jones'], 'Title': ['CEO'], 'P...  \n1  {'Name': ['Kate Brown', 'Darin White'], 'Title...  \n2  {'Name': ['Carl Clark'], 'Title': ['Chief Oper...  \n3  {'Name': ['Taylor Garcia'], 'Title': ['Board M...  ",
      "text/html": "<div>\n<style scoped>\n    .dataframe tbody tr th:only-of-type {\n        vertical-align: middle;\n    }\n\n    .dataframe tbody tr th {\n        vertical-align: top;\n    }\n\n    .dataframe thead th {\n        text-align: right;\n    }\n</style>\n<table border=\"1\" class=\"dataframe\">\n  <thead>\n    <tr style=\"text-align: right;\">\n      <th></th>\n      <th>company_name</th>\n      <th>info</th>\n      <th>new_info</th>\n    </tr>\n  </thead>\n  <tbody>\n    <tr>\n      <th>0</th>\n      <td>A</td>\n      <td>[[Name, David Jones], [Title, CEO], [Phone, 20...</td>\n      <td>{'Name': ['David Jones'], 'Title': ['CEO'], 'P...</td>\n    </tr>\n    <tr>\n      <th>1</th>\n      <td>B</td>\n      <td>[[Name, Kate Brown], [Title, Senior Lawyer], [...</td>\n      <td>{'Name': ['Kate Brown', 'Darin White'], 'Title...</td>\n    </tr>\n    <tr>\n      <th>2</th>\n      <td>C</td>\n      <td>[[Name, Carl Clark], [Title, Chief Operating O...</td>\n      <td>{'Name': ['Carl Clark'], 'Title': ['Chief Oper...</td>\n    </tr>\n    <tr>\n      <th>3</th>\n      <td>D</td>\n      <td>[[Name, Taylor Garcia], [Title, Board Member],...</td>\n      <td>{'Name': ['Taylor Garcia'], 'Title': ['Board M...</td>\n    </tr>\n  </tbody>\n</table>\n</div>"
     },
     "metadata": {},
     "execution_count": 9
    }
   ],
   "source": [
    "df.head()"
   ]
  },
  {
   "cell_type": "markdown",
   "metadata": {},
   "source": [
    "We successfully converted the list of lists into dict of lists. Take a look at the second record of the \"new_info\" column. We see that the values of this dict are two-element lists."
   ],
   "execution_count": null,
   "outputs": []
  },
  {
   "cell_type": "code",
   "execution_count": 10,
   "metadata": {},
   "outputs": [
    {
     "output_type": "execute_result",
     "data": {
      "text/plain": "{'Name': ['Kate Brown', 'Darin White'],\n 'Title': ['Senior Lawyer', 'Associate Vice President'],\n 'Phone': ['316-978-7791', '316-978-3887'],\n 'Email': ['Kate.Brown@example.edu', 'Darin.White@example.edu']}"
     },
     "metadata": {},
     "execution_count": 10
    }
   ],
   "source": [
    "df['new_info'].iloc[1]"
   ]
  },
  {
   "cell_type": "markdown",
   "metadata": {},
   "source": [
    "There are two ways to deal with this sort of data. I found the second way much faster compared to the first, but let review both of them."
   ],
   "execution_count": null,
   "outputs": []
  },
  {
   "cell_type": "code",
   "execution_count": 11,
   "metadata": {},
   "outputs": [
    {
     "output_type": "execute_result",
     "data": {
      "text/plain": "            Name                     Title         Phone  \\\n0    David Jones                       CEO  207-685-1626   \n1     Kate Brown             Senior Lawyer  316-978-7791   \n2    Darin White  Associate Vice President  316-978-3887   \n3     Carl Clark   Chief Operating Officer  413-534-2745   \n4  Taylor Garcia              Board Member  307-733-2164   \n\n                     Email  \n0       djones@example.org  \n1   Kate.Brown@example.edu  \n2  Darin.White@example.edu  \n3   Clark_Carl@example.com  \n4       Garcia@example.org  ",
      "text/html": "<div>\n<style scoped>\n    .dataframe tbody tr th:only-of-type {\n        vertical-align: middle;\n    }\n\n    .dataframe tbody tr th {\n        vertical-align: top;\n    }\n\n    .dataframe thead th {\n        text-align: right;\n    }\n</style>\n<table border=\"1\" class=\"dataframe\">\n  <thead>\n    <tr style=\"text-align: right;\">\n      <th></th>\n      <th>Name</th>\n      <th>Title</th>\n      <th>Phone</th>\n      <th>Email</th>\n    </tr>\n  </thead>\n  <tbody>\n    <tr>\n      <th>0</th>\n      <td>David Jones</td>\n      <td>CEO</td>\n      <td>207-685-1626</td>\n      <td>djones@example.org</td>\n    </tr>\n    <tr>\n      <th>1</th>\n      <td>Kate Brown</td>\n      <td>Senior Lawyer</td>\n      <td>316-978-7791</td>\n      <td>Kate.Brown@example.edu</td>\n    </tr>\n    <tr>\n      <th>2</th>\n      <td>Darin White</td>\n      <td>Associate Vice President</td>\n      <td>316-978-3887</td>\n      <td>Darin.White@example.edu</td>\n    </tr>\n    <tr>\n      <th>3</th>\n      <td>Carl Clark</td>\n      <td>Chief Operating Officer</td>\n      <td>413-534-2745</td>\n      <td>Clark_Carl@example.com</td>\n    </tr>\n    <tr>\n      <th>4</th>\n      <td>Taylor Garcia</td>\n      <td>Board Member</td>\n      <td>307-733-2164</td>\n      <td>Garcia@example.org</td>\n    </tr>\n  </tbody>\n</table>\n</div>"
     },
     "metadata": {},
     "execution_count": 11
    }
   ],
   "source": [
    "# The first way to flatten dict of lists\n",
    "\n",
    "\n",
    "new_data = []\n",
    "\n",
    "\n",
    "for i in df['new_info']:\n",
    "    new_data.append(pd.DataFrame(i))\n",
    "\n",
    "# Flattening\n",
    "(pd.concat(new_data, axis=0, sort=False) # Concatenate list of DataFrames\n",
    "    .drop_duplicates() # Drop duplicates\n",
    "    .reset_index(drop=True)\n",
    ")"
   ]
  },
  {
   "cell_type": "markdown",
   "metadata": {},
   "source": [
    "It's evident that, having millions of rows how slow this loop will be. For that reason, I came up with the second solution, which uses ```Pandas``` native methods to achieve the same."
   ],
   "execution_count": null,
   "outputs": []
  },
  {
   "cell_type": "code",
   "execution_count": 12,
   "metadata": {},
   "outputs": [
    {
     "output_type": "execute_result",
     "data": {
      "text/plain": "            Name                     Title         Phone  \\\n0    David Jones                       CEO  207-685-1626   \n1     Kate Brown             Senior Lawyer  316-978-7791   \n2    Darin White  Associate Vice President  316-978-3887   \n3     Carl Clark   Chief Operating Officer  413-534-2745   \n4  Taylor Garcia              Board Member  307-733-2164   \n\n                     Email  \n0       djones@example.org  \n1   Kate.Brown@example.edu  \n2  Darin.White@example.edu  \n3   Clark_Carl@example.com  \n4       Garcia@example.org  ",
      "text/html": "<div>\n<style scoped>\n    .dataframe tbody tr th:only-of-type {\n        vertical-align: middle;\n    }\n\n    .dataframe tbody tr th {\n        vertical-align: top;\n    }\n\n    .dataframe thead th {\n        text-align: right;\n    }\n</style>\n<table border=\"1\" class=\"dataframe\">\n  <thead>\n    <tr style=\"text-align: right;\">\n      <th></th>\n      <th>Name</th>\n      <th>Title</th>\n      <th>Phone</th>\n      <th>Email</th>\n    </tr>\n  </thead>\n  <tbody>\n    <tr>\n      <th>0</th>\n      <td>David Jones</td>\n      <td>CEO</td>\n      <td>207-685-1626</td>\n      <td>djones@example.org</td>\n    </tr>\n    <tr>\n      <th>1</th>\n      <td>Kate Brown</td>\n      <td>Senior Lawyer</td>\n      <td>316-978-7791</td>\n      <td>Kate.Brown@example.edu</td>\n    </tr>\n    <tr>\n      <th>2</th>\n      <td>Darin White</td>\n      <td>Associate Vice President</td>\n      <td>316-978-3887</td>\n      <td>Darin.White@example.edu</td>\n    </tr>\n    <tr>\n      <th>3</th>\n      <td>Carl Clark</td>\n      <td>Chief Operating Officer</td>\n      <td>413-534-2745</td>\n      <td>Clark_Carl@example.com</td>\n    </tr>\n    <tr>\n      <th>4</th>\n      <td>Taylor Garcia</td>\n      <td>Board Member</td>\n      <td>307-733-2164</td>\n      <td>Garcia@example.org</td>\n    </tr>\n  </tbody>\n</table>\n</div>"
     },
     "metadata": {},
     "execution_count": 12
    }
   ],
   "source": [
    "# The second method to faltten dict of lists\n",
    "\n",
    "\n",
    "(df['new_info'].apply(pd.Series) # Apply Pandas Series to each cell of this column\n",
    "                .apply(lambda x: x.explode()) # Apply \".explode()\" method to each list\n",
    "                .reset_index(drop=True)\n",
    ")"
   ]
  },
  {
   "cell_type": "code",
   "execution_count": null,
   "metadata": {},
   "outputs": [],
   "source": []
  }
 ]
}