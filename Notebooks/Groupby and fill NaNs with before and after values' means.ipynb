{
 "nbformat": 4,
 "nbformat_minor": 2,
 "metadata": {
  "language_info": {
   "name": "python",
   "codemirror_mode": {
    "name": "ipython",
    "version": 3
   },
   "version": "3.7.5-final"
  },
  "orig_nbformat": 2,
  "file_extension": ".py",
  "mimetype": "text/x-python",
  "name": "python",
  "npconvert_exporter": "python",
  "pygments_lexer": "ipython3",
  "version": 3,
  "kernelspec": {
   "name": "python37564bitpandasconda46ae5c7cd3ce4633b20b3219cca00c78",
   "display_name": "Python 3.7.5 64-bit ('pandas': conda)"
  }
 },
 "cells": [
  {
   "cell_type": "markdown",
   "execution_count": null,
   "metadata": {},
   "outputs": [],
   "source": [
    "# How can we perform ```groupby``` and fill ```Nan```'s with its preceding and following values\n",
    "\n",
    "---\n",
    "\n",
    "In this notebook I will show you how to fill missing values by the average of its before and after values if our dataframe has the following form:"
   ]
  },
  {
   "cell_type": "code",
   "execution_count": 1,
   "metadata": {},
   "outputs": [],
   "source": [
    "import pandas as pd\n",
    "import numpy as np"
   ]
  },
  {
   "cell_type": "markdown",
   "execution_count": null,
   "metadata": {},
   "outputs": [],
   "source": [
    "Let create some artificial data as dictionary and then convert if to Pandas DataFrame object"
   ]
  },
  {
   "cell_type": "code",
   "execution_count": 2,
   "metadata": {},
   "outputs": [],
   "source": [
    "data = {\"type\":['a','a','a','a','a','a','a','a','a','a','a','a','a','a','a',\n",
    "                'b','b','b','b','b','b','b','b','b','b','b','b','b','b','b'],\n",
    "        \"date\":['2018-09','2018-10','2018-11','2018-12','2019-01','2019-02',\n",
    "                '2019-03','2019-04','2019-05','2019-06','2019-07','2019-08',\n",
    "                '2019-09','2019-10','2019-11','2018-09','2018-10','2018-11',\n",
    "                '2018-12','2019-01','2019-02','2019-03','2019-04','2019-05',\n",
    "                '2019-06','2019-07','2019-08','2019-09','2019-10','2019-11'],\n",
    "        \"v1\":[10, np.nan, np.nan, 20, np.nan, np.nan, 30, np.nan, np.nan, 40,\n",
    "            np.nan, np.nan, 50, np.nan, np.nan, 60, np.nan, np.nan, 70, np.nan,\n",
    "            np.nan, 80, np.nan, np.nan, 90, np.nan, np.nan, 100, np.nan, np.nan],\n",
    "        \"v2\":[10, np.nan, np.nan, 20, np.nan, np.nan, 30, np.nan, np.nan, 40,\n",
    "            np.nan, np.nan, 50, np.nan, np.nan, 60, np.nan, np.nan, 70, np.nan,\n",
    "            np.nan, 80, np.nan, np.nan, 90, np.nan, np.nan, 100, np.nan, np.nan]}"
   ]
  },
  {
   "cell_type": "code",
   "execution_count": 3,
   "metadata": {},
   "outputs": [],
   "source": [
    "df = pd.DataFrame(data)"
   ]
  },
  {
   "cell_type": "code",
   "execution_count": 4,
   "metadata": {},
   "outputs": [
    {
     "name": "stdout",
     "output_type": "stream",
     "text": "<class 'pandas.core.frame.DataFrame'>\nRangeIndex: 30 entries, 0 to 29\nData columns (total 4 columns):\ntype    30 non-null object\ndate    30 non-null object\nv1      10 non-null float64\nv2      10 non-null float64\ndtypes: float64(2), object(2)\nmemory usage: 1.1+ KB\n"
    }
   ],
   "source": [
    "df.info()"
   ]
  },
  {
   "cell_type": "code",
   "execution_count": 5,
   "metadata": {},
   "outputs": [
    {
     "data": {
      "text/html": "<div>\n<style scoped>\n    .dataframe tbody tr th:only-of-type {\n        vertical-align: middle;\n    }\n\n    .dataframe tbody tr th {\n        vertical-align: top;\n    }\n\n    .dataframe thead th {\n        text-align: right;\n    }\n</style>\n<table border=\"1\" class=\"dataframe\">\n  <thead>\n    <tr style=\"text-align: right;\">\n      <th></th>\n      <th>type</th>\n      <th>date</th>\n      <th>v1</th>\n      <th>v2</th>\n    </tr>\n  </thead>\n  <tbody>\n    <tr>\n      <th>0</th>\n      <td>a</td>\n      <td>2018-09</td>\n      <td>10.0</td>\n      <td>10.0</td>\n    </tr>\n    <tr>\n      <th>1</th>\n      <td>a</td>\n      <td>2018-10</td>\n      <td>NaN</td>\n      <td>NaN</td>\n    </tr>\n    <tr>\n      <th>2</th>\n      <td>a</td>\n      <td>2018-11</td>\n      <td>NaN</td>\n      <td>NaN</td>\n    </tr>\n    <tr>\n      <th>3</th>\n      <td>a</td>\n      <td>2018-12</td>\n      <td>20.0</td>\n      <td>20.0</td>\n    </tr>\n    <tr>\n      <th>4</th>\n      <td>a</td>\n      <td>2019-01</td>\n      <td>NaN</td>\n      <td>NaN</td>\n    </tr>\n    <tr>\n      <th>5</th>\n      <td>a</td>\n      <td>2019-02</td>\n      <td>NaN</td>\n      <td>NaN</td>\n    </tr>\n    <tr>\n      <th>6</th>\n      <td>a</td>\n      <td>2019-03</td>\n      <td>30.0</td>\n      <td>30.0</td>\n    </tr>\n    <tr>\n      <th>7</th>\n      <td>a</td>\n      <td>2019-04</td>\n      <td>NaN</td>\n      <td>NaN</td>\n    </tr>\n    <tr>\n      <th>8</th>\n      <td>a</td>\n      <td>2019-05</td>\n      <td>NaN</td>\n      <td>NaN</td>\n    </tr>\n    <tr>\n      <th>9</th>\n      <td>a</td>\n      <td>2019-06</td>\n      <td>40.0</td>\n      <td>40.0</td>\n    </tr>\n    <tr>\n      <th>10</th>\n      <td>a</td>\n      <td>2019-07</td>\n      <td>NaN</td>\n      <td>NaN</td>\n    </tr>\n    <tr>\n      <th>11</th>\n      <td>a</td>\n      <td>2019-08</td>\n      <td>NaN</td>\n      <td>NaN</td>\n    </tr>\n    <tr>\n      <th>12</th>\n      <td>a</td>\n      <td>2019-09</td>\n      <td>50.0</td>\n      <td>50.0</td>\n    </tr>\n    <tr>\n      <th>13</th>\n      <td>a</td>\n      <td>2019-10</td>\n      <td>NaN</td>\n      <td>NaN</td>\n    </tr>\n    <tr>\n      <th>14</th>\n      <td>a</td>\n      <td>2019-11</td>\n      <td>NaN</td>\n      <td>NaN</td>\n    </tr>\n    <tr>\n      <th>15</th>\n      <td>b</td>\n      <td>2018-09</td>\n      <td>60.0</td>\n      <td>60.0</td>\n    </tr>\n    <tr>\n      <th>16</th>\n      <td>b</td>\n      <td>2018-10</td>\n      <td>NaN</td>\n      <td>NaN</td>\n    </tr>\n    <tr>\n      <th>17</th>\n      <td>b</td>\n      <td>2018-11</td>\n      <td>NaN</td>\n      <td>NaN</td>\n    </tr>\n    <tr>\n      <th>18</th>\n      <td>b</td>\n      <td>2018-12</td>\n      <td>70.0</td>\n      <td>70.0</td>\n    </tr>\n    <tr>\n      <th>19</th>\n      <td>b</td>\n      <td>2019-01</td>\n      <td>NaN</td>\n      <td>NaN</td>\n    </tr>\n    <tr>\n      <th>20</th>\n      <td>b</td>\n      <td>2019-02</td>\n      <td>NaN</td>\n      <td>NaN</td>\n    </tr>\n    <tr>\n      <th>21</th>\n      <td>b</td>\n      <td>2019-03</td>\n      <td>80.0</td>\n      <td>80.0</td>\n    </tr>\n    <tr>\n      <th>22</th>\n      <td>b</td>\n      <td>2019-04</td>\n      <td>NaN</td>\n      <td>NaN</td>\n    </tr>\n    <tr>\n      <th>23</th>\n      <td>b</td>\n      <td>2019-05</td>\n      <td>NaN</td>\n      <td>NaN</td>\n    </tr>\n    <tr>\n      <th>24</th>\n      <td>b</td>\n      <td>2019-06</td>\n      <td>90.0</td>\n      <td>90.0</td>\n    </tr>\n    <tr>\n      <th>25</th>\n      <td>b</td>\n      <td>2019-07</td>\n      <td>NaN</td>\n      <td>NaN</td>\n    </tr>\n    <tr>\n      <th>26</th>\n      <td>b</td>\n      <td>2019-08</td>\n      <td>NaN</td>\n      <td>NaN</td>\n    </tr>\n    <tr>\n      <th>27</th>\n      <td>b</td>\n      <td>2019-09</td>\n      <td>100.0</td>\n      <td>100.0</td>\n    </tr>\n    <tr>\n      <th>28</th>\n      <td>b</td>\n      <td>2019-10</td>\n      <td>NaN</td>\n      <td>NaN</td>\n    </tr>\n    <tr>\n      <th>29</th>\n      <td>b</td>\n      <td>2019-11</td>\n      <td>NaN</td>\n      <td>NaN</td>\n    </tr>\n  </tbody>\n</table>\n</div>",
      "text/plain": "   type     date     v1     v2\n0     a  2018-09   10.0   10.0\n1     a  2018-10    NaN    NaN\n2     a  2018-11    NaN    NaN\n3     a  2018-12   20.0   20.0\n4     a  2019-01    NaN    NaN\n5     a  2019-02    NaN    NaN\n6     a  2019-03   30.0   30.0\n7     a  2019-04    NaN    NaN\n8     a  2019-05    NaN    NaN\n9     a  2019-06   40.0   40.0\n10    a  2019-07    NaN    NaN\n11    a  2019-08    NaN    NaN\n12    a  2019-09   50.0   50.0\n13    a  2019-10    NaN    NaN\n14    a  2019-11    NaN    NaN\n15    b  2018-09   60.0   60.0\n16    b  2018-10    NaN    NaN\n17    b  2018-11    NaN    NaN\n18    b  2018-12   70.0   70.0\n19    b  2019-01    NaN    NaN\n20    b  2019-02    NaN    NaN\n21    b  2019-03   80.0   80.0\n22    b  2019-04    NaN    NaN\n23    b  2019-05    NaN    NaN\n24    b  2019-06   90.0   90.0\n25    b  2019-07    NaN    NaN\n26    b  2019-08    NaN    NaN\n27    b  2019-09  100.0  100.0\n28    b  2019-10    NaN    NaN\n29    b  2019-11    NaN    NaN"
     },
     "execution_count": 5,
     "metadata": {},
     "output_type": "execute_result"
    }
   ],
   "source": [
    "df"
   ]
  },
  {
   "cell_type": "markdown",
   "execution_count": null,
   "metadata": {},
   "outputs": [],
   "source": [
    "We see that values in ```type``` and ```date``` column are reprtitive. Moreover, it does not matter what values are in other two columns, unless it's numeric type. Our aim is to fill these missing values by the average of its before and after value for ```v1``` and ```v2``` columns. We also notice that sorting and then filling won't give desired result. We need something different. But before we find that solution we need to convert columns in numeric type in order to compute average by using Pandas ```to_numeric()``` method with parameter \"errors\" set to \"coerce\", because Pandas DataFrame ```astype()``` method won't work in this case."
   ]
  },
  {
   "cell_type": "markdown",
   "execution_count": null,
   "metadata": {},
   "outputs": [],
   "source": [
    "We have two solution here. To use both of them let make copy of initial dataframe. The first uses ```groupby``` and then applies aggregator with \"backward fill\" and \"forward fill\" and then again ```groupby``` and then computes mean. The second solution does almost the same as the first but uses ```apply()``` method instead of aggregation"
   ]
  },
  {
   "cell_type": "code",
   "execution_count": 6,
   "metadata": {},
   "outputs": [
    {
     "data": {
      "text/html": "<div>\n<style scoped>\n    .dataframe tbody tr th:only-of-type {\n        vertical-align: middle;\n    }\n\n    .dataframe tbody tr th {\n        vertical-align: top;\n    }\n\n    .dataframe thead th {\n        text-align: right;\n    }\n</style>\n<table border=\"1\" class=\"dataframe\">\n  <thead>\n    <tr style=\"text-align: right;\">\n      <th></th>\n      <th>type</th>\n      <th>date</th>\n      <th>v1</th>\n      <th>v2</th>\n    </tr>\n  </thead>\n  <tbody>\n    <tr>\n      <th>0</th>\n      <td>a</td>\n      <td>2018-09</td>\n      <td>10.0</td>\n      <td>10.0</td>\n    </tr>\n    <tr>\n      <th>1</th>\n      <td>a</td>\n      <td>2018-10</td>\n      <td>15.0</td>\n      <td>15.0</td>\n    </tr>\n    <tr>\n      <th>2</th>\n      <td>a</td>\n      <td>2018-11</td>\n      <td>15.0</td>\n      <td>15.0</td>\n    </tr>\n    <tr>\n      <th>3</th>\n      <td>a</td>\n      <td>2018-12</td>\n      <td>20.0</td>\n      <td>20.0</td>\n    </tr>\n    <tr>\n      <th>4</th>\n      <td>a</td>\n      <td>2019-01</td>\n      <td>25.0</td>\n      <td>25.0</td>\n    </tr>\n    <tr>\n      <th>5</th>\n      <td>a</td>\n      <td>2019-02</td>\n      <td>25.0</td>\n      <td>25.0</td>\n    </tr>\n    <tr>\n      <th>6</th>\n      <td>a</td>\n      <td>2019-03</td>\n      <td>30.0</td>\n      <td>30.0</td>\n    </tr>\n    <tr>\n      <th>7</th>\n      <td>a</td>\n      <td>2019-04</td>\n      <td>35.0</td>\n      <td>35.0</td>\n    </tr>\n    <tr>\n      <th>8</th>\n      <td>a</td>\n      <td>2019-05</td>\n      <td>35.0</td>\n      <td>35.0</td>\n    </tr>\n    <tr>\n      <th>9</th>\n      <td>a</td>\n      <td>2019-06</td>\n      <td>40.0</td>\n      <td>40.0</td>\n    </tr>\n    <tr>\n      <th>10</th>\n      <td>a</td>\n      <td>2019-07</td>\n      <td>45.0</td>\n      <td>45.0</td>\n    </tr>\n    <tr>\n      <th>11</th>\n      <td>a</td>\n      <td>2019-08</td>\n      <td>45.0</td>\n      <td>45.0</td>\n    </tr>\n    <tr>\n      <th>12</th>\n      <td>a</td>\n      <td>2019-09</td>\n      <td>50.0</td>\n      <td>50.0</td>\n    </tr>\n    <tr>\n      <th>13</th>\n      <td>a</td>\n      <td>2019-10</td>\n      <td>50.0</td>\n      <td>50.0</td>\n    </tr>\n    <tr>\n      <th>14</th>\n      <td>a</td>\n      <td>2019-11</td>\n      <td>50.0</td>\n      <td>50.0</td>\n    </tr>\n    <tr>\n      <th>15</th>\n      <td>b</td>\n      <td>2018-09</td>\n      <td>60.0</td>\n      <td>60.0</td>\n    </tr>\n    <tr>\n      <th>16</th>\n      <td>b</td>\n      <td>2018-10</td>\n      <td>65.0</td>\n      <td>65.0</td>\n    </tr>\n    <tr>\n      <th>17</th>\n      <td>b</td>\n      <td>2018-11</td>\n      <td>65.0</td>\n      <td>65.0</td>\n    </tr>\n    <tr>\n      <th>18</th>\n      <td>b</td>\n      <td>2018-12</td>\n      <td>70.0</td>\n      <td>70.0</td>\n    </tr>\n    <tr>\n      <th>19</th>\n      <td>b</td>\n      <td>2019-01</td>\n      <td>75.0</td>\n      <td>75.0</td>\n    </tr>\n    <tr>\n      <th>20</th>\n      <td>b</td>\n      <td>2019-02</td>\n      <td>75.0</td>\n      <td>75.0</td>\n    </tr>\n    <tr>\n      <th>21</th>\n      <td>b</td>\n      <td>2019-03</td>\n      <td>80.0</td>\n      <td>80.0</td>\n    </tr>\n    <tr>\n      <th>22</th>\n      <td>b</td>\n      <td>2019-04</td>\n      <td>85.0</td>\n      <td>85.0</td>\n    </tr>\n    <tr>\n      <th>23</th>\n      <td>b</td>\n      <td>2019-05</td>\n      <td>85.0</td>\n      <td>85.0</td>\n    </tr>\n    <tr>\n      <th>24</th>\n      <td>b</td>\n      <td>2019-06</td>\n      <td>90.0</td>\n      <td>90.0</td>\n    </tr>\n    <tr>\n      <th>25</th>\n      <td>b</td>\n      <td>2019-07</td>\n      <td>95.0</td>\n      <td>95.0</td>\n    </tr>\n    <tr>\n      <th>26</th>\n      <td>b</td>\n      <td>2019-08</td>\n      <td>95.0</td>\n      <td>95.0</td>\n    </tr>\n    <tr>\n      <th>27</th>\n      <td>b</td>\n      <td>2019-09</td>\n      <td>100.0</td>\n      <td>100.0</td>\n    </tr>\n    <tr>\n      <th>28</th>\n      <td>b</td>\n      <td>2019-10</td>\n      <td>100.0</td>\n      <td>100.0</td>\n    </tr>\n    <tr>\n      <th>29</th>\n      <td>b</td>\n      <td>2019-11</td>\n      <td>100.0</td>\n      <td>100.0</td>\n    </tr>\n  </tbody>\n</table>\n</div>",
      "text/plain": "   type     date     v1     v2\n0     a  2018-09   10.0   10.0\n1     a  2018-10   15.0   15.0\n2     a  2018-11   15.0   15.0\n3     a  2018-12   20.0   20.0\n4     a  2019-01   25.0   25.0\n5     a  2019-02   25.0   25.0\n6     a  2019-03   30.0   30.0\n7     a  2019-04   35.0   35.0\n8     a  2019-05   35.0   35.0\n9     a  2019-06   40.0   40.0\n10    a  2019-07   45.0   45.0\n11    a  2019-08   45.0   45.0\n12    a  2019-09   50.0   50.0\n13    a  2019-10   50.0   50.0\n14    a  2019-11   50.0   50.0\n15    b  2018-09   60.0   60.0\n16    b  2018-10   65.0   65.0\n17    b  2018-11   65.0   65.0\n18    b  2018-12   70.0   70.0\n19    b  2019-01   75.0   75.0\n20    b  2019-02   75.0   75.0\n21    b  2019-03   80.0   80.0\n22    b  2019-04   85.0   85.0\n23    b  2019-05   85.0   85.0\n24    b  2019-06   90.0   90.0\n25    b  2019-07   95.0   95.0\n26    b  2019-08   95.0   95.0\n27    b  2019-09  100.0  100.0\n28    b  2019-10  100.0  100.0\n29    b  2019-11  100.0  100.0"
     },
     "execution_count": 6,
     "metadata": {},
     "output_type": "execute_result"
    }
   ],
   "source": [
    "# The first solution\n",
    "\n",
    "df_first = df.copy(deep=True)\n",
    "\n",
    "df_first[['v1','v2']] = (df_first.groupby('type')[['v1','v2']]\n",
    "                        .agg(['bfill','ffill'])\n",
    "                        .groupby(level=0, axis=1)\n",
    "                        .mean()\n",
    "                        )\n",
    "\n",
    "df_first"
   ]
  },
  {
   "cell_type": "code",
   "execution_count": 7,
   "metadata": {},
   "outputs": [
    {
     "data": {
      "text/html": "<div>\n<style scoped>\n    .dataframe tbody tr th:only-of-type {\n        vertical-align: middle;\n    }\n\n    .dataframe tbody tr th {\n        vertical-align: top;\n    }\n\n    .dataframe thead th {\n        text-align: right;\n    }\n</style>\n<table border=\"1\" class=\"dataframe\">\n  <thead>\n    <tr style=\"text-align: right;\">\n      <th></th>\n      <th>type</th>\n      <th>date</th>\n      <th>v1</th>\n      <th>v2</th>\n    </tr>\n  </thead>\n  <tbody>\n    <tr>\n      <th>0</th>\n      <td>a</td>\n      <td>2018-09</td>\n      <td>10.0</td>\n      <td>10.0</td>\n    </tr>\n    <tr>\n      <th>1</th>\n      <td>a</td>\n      <td>2018-10</td>\n      <td>15.0</td>\n      <td>15.0</td>\n    </tr>\n    <tr>\n      <th>2</th>\n      <td>a</td>\n      <td>2018-11</td>\n      <td>15.0</td>\n      <td>15.0</td>\n    </tr>\n    <tr>\n      <th>3</th>\n      <td>a</td>\n      <td>2018-12</td>\n      <td>20.0</td>\n      <td>20.0</td>\n    </tr>\n    <tr>\n      <th>4</th>\n      <td>a</td>\n      <td>2019-01</td>\n      <td>25.0</td>\n      <td>25.0</td>\n    </tr>\n    <tr>\n      <th>5</th>\n      <td>a</td>\n      <td>2019-02</td>\n      <td>25.0</td>\n      <td>25.0</td>\n    </tr>\n    <tr>\n      <th>6</th>\n      <td>a</td>\n      <td>2019-03</td>\n      <td>30.0</td>\n      <td>30.0</td>\n    </tr>\n    <tr>\n      <th>7</th>\n      <td>a</td>\n      <td>2019-04</td>\n      <td>35.0</td>\n      <td>35.0</td>\n    </tr>\n    <tr>\n      <th>8</th>\n      <td>a</td>\n      <td>2019-05</td>\n      <td>35.0</td>\n      <td>35.0</td>\n    </tr>\n    <tr>\n      <th>9</th>\n      <td>a</td>\n      <td>2019-06</td>\n      <td>40.0</td>\n      <td>40.0</td>\n    </tr>\n    <tr>\n      <th>10</th>\n      <td>a</td>\n      <td>2019-07</td>\n      <td>45.0</td>\n      <td>45.0</td>\n    </tr>\n    <tr>\n      <th>11</th>\n      <td>a</td>\n      <td>2019-08</td>\n      <td>45.0</td>\n      <td>45.0</td>\n    </tr>\n    <tr>\n      <th>12</th>\n      <td>a</td>\n      <td>2019-09</td>\n      <td>50.0</td>\n      <td>50.0</td>\n    </tr>\n    <tr>\n      <th>13</th>\n      <td>a</td>\n      <td>2019-10</td>\n      <td>50.0</td>\n      <td>50.0</td>\n    </tr>\n    <tr>\n      <th>14</th>\n      <td>a</td>\n      <td>2019-11</td>\n      <td>50.0</td>\n      <td>50.0</td>\n    </tr>\n    <tr>\n      <th>15</th>\n      <td>b</td>\n      <td>2018-09</td>\n      <td>60.0</td>\n      <td>60.0</td>\n    </tr>\n    <tr>\n      <th>16</th>\n      <td>b</td>\n      <td>2018-10</td>\n      <td>65.0</td>\n      <td>65.0</td>\n    </tr>\n    <tr>\n      <th>17</th>\n      <td>b</td>\n      <td>2018-11</td>\n      <td>65.0</td>\n      <td>65.0</td>\n    </tr>\n    <tr>\n      <th>18</th>\n      <td>b</td>\n      <td>2018-12</td>\n      <td>70.0</td>\n      <td>70.0</td>\n    </tr>\n    <tr>\n      <th>19</th>\n      <td>b</td>\n      <td>2019-01</td>\n      <td>75.0</td>\n      <td>75.0</td>\n    </tr>\n    <tr>\n      <th>20</th>\n      <td>b</td>\n      <td>2019-02</td>\n      <td>75.0</td>\n      <td>75.0</td>\n    </tr>\n    <tr>\n      <th>21</th>\n      <td>b</td>\n      <td>2019-03</td>\n      <td>80.0</td>\n      <td>80.0</td>\n    </tr>\n    <tr>\n      <th>22</th>\n      <td>b</td>\n      <td>2019-04</td>\n      <td>85.0</td>\n      <td>85.0</td>\n    </tr>\n    <tr>\n      <th>23</th>\n      <td>b</td>\n      <td>2019-05</td>\n      <td>85.0</td>\n      <td>85.0</td>\n    </tr>\n    <tr>\n      <th>24</th>\n      <td>b</td>\n      <td>2019-06</td>\n      <td>90.0</td>\n      <td>90.0</td>\n    </tr>\n    <tr>\n      <th>25</th>\n      <td>b</td>\n      <td>2019-07</td>\n      <td>95.0</td>\n      <td>95.0</td>\n    </tr>\n    <tr>\n      <th>26</th>\n      <td>b</td>\n      <td>2019-08</td>\n      <td>95.0</td>\n      <td>95.0</td>\n    </tr>\n    <tr>\n      <th>27</th>\n      <td>b</td>\n      <td>2019-09</td>\n      <td>100.0</td>\n      <td>100.0</td>\n    </tr>\n    <tr>\n      <th>28</th>\n      <td>b</td>\n      <td>2019-10</td>\n      <td>100.0</td>\n      <td>100.0</td>\n    </tr>\n    <tr>\n      <th>29</th>\n      <td>b</td>\n      <td>2019-11</td>\n      <td>100.0</td>\n      <td>100.0</td>\n    </tr>\n  </tbody>\n</table>\n</div>",
      "text/plain": "   type     date     v1     v2\n0     a  2018-09   10.0   10.0\n1     a  2018-10   15.0   15.0\n2     a  2018-11   15.0   15.0\n3     a  2018-12   20.0   20.0\n4     a  2019-01   25.0   25.0\n5     a  2019-02   25.0   25.0\n6     a  2019-03   30.0   30.0\n7     a  2019-04   35.0   35.0\n8     a  2019-05   35.0   35.0\n9     a  2019-06   40.0   40.0\n10    a  2019-07   45.0   45.0\n11    a  2019-08   45.0   45.0\n12    a  2019-09   50.0   50.0\n13    a  2019-10   50.0   50.0\n14    a  2019-11   50.0   50.0\n15    b  2018-09   60.0   60.0\n16    b  2018-10   65.0   65.0\n17    b  2018-11   65.0   65.0\n18    b  2018-12   70.0   70.0\n19    b  2019-01   75.0   75.0\n20    b  2019-02   75.0   75.0\n21    b  2019-03   80.0   80.0\n22    b  2019-04   85.0   85.0\n23    b  2019-05   85.0   85.0\n24    b  2019-06   90.0   90.0\n25    b  2019-07   95.0   95.0\n26    b  2019-08   95.0   95.0\n27    b  2019-09  100.0  100.0\n28    b  2019-10  100.0  100.0\n29    b  2019-11  100.0  100.0"
     },
     "execution_count": 7,
     "metadata": {},
     "output_type": "execute_result"
    }
   ],
   "source": [
    "# The second solution\n",
    "\n",
    "\n",
    "df_second = df.copy(deep=True)\n",
    "\n",
    "g = df_second.groupby('type')['v1', 'v2']\n",
    "\n",
    "df_second[['v1', 'v2']] = (g.ffill()+g.bfill())/2\n",
    "\n",
    "df_second[['v1', 'v2']] = g.apply(lambda x: x.bfill().ffill())\n",
    "\n",
    "\n",
    "df_second"
   ]
  },
  {
   "cell_type": "markdown",
   "execution_count": null,
   "metadata": {},
   "outputs": [],
   "source": [
    "Above two methods gave us desirable results. Let try some plain method to achieve the same. Below is the dry, plain method which fill missing values by  backward and forward average. However by using this we introduce bug which will be hard to detect. Let see"
   ]
  },
  {
   "cell_type": "code",
   "execution_count": 8,
   "metadata": {},
   "outputs": [
    {
     "data": {
      "text/html": "<div>\n<style scoped>\n    .dataframe tbody tr th:only-of-type {\n        vertical-align: middle;\n    }\n\n    .dataframe tbody tr th {\n        vertical-align: top;\n    }\n\n    .dataframe thead th {\n        text-align: right;\n    }\n</style>\n<table border=\"1\" class=\"dataframe\">\n  <thead>\n    <tr style=\"text-align: right;\">\n      <th></th>\n      <th>type</th>\n      <th>date</th>\n      <th>v1</th>\n      <th>v2</th>\n    </tr>\n  </thead>\n  <tbody>\n    <tr>\n      <th>0</th>\n      <td>a</td>\n      <td>2018-09</td>\n      <td>10.0</td>\n      <td>10.0</td>\n    </tr>\n    <tr>\n      <th>1</th>\n      <td>a</td>\n      <td>2018-10</td>\n      <td>15.0</td>\n      <td>15.0</td>\n    </tr>\n    <tr>\n      <th>2</th>\n      <td>a</td>\n      <td>2018-11</td>\n      <td>15.0</td>\n      <td>15.0</td>\n    </tr>\n    <tr>\n      <th>3</th>\n      <td>a</td>\n      <td>2018-12</td>\n      <td>20.0</td>\n      <td>20.0</td>\n    </tr>\n    <tr>\n      <th>4</th>\n      <td>a</td>\n      <td>2019-01</td>\n      <td>25.0</td>\n      <td>25.0</td>\n    </tr>\n    <tr>\n      <th>5</th>\n      <td>a</td>\n      <td>2019-02</td>\n      <td>25.0</td>\n      <td>25.0</td>\n    </tr>\n    <tr>\n      <th>6</th>\n      <td>a</td>\n      <td>2019-03</td>\n      <td>30.0</td>\n      <td>30.0</td>\n    </tr>\n    <tr>\n      <th>7</th>\n      <td>a</td>\n      <td>2019-04</td>\n      <td>35.0</td>\n      <td>35.0</td>\n    </tr>\n    <tr>\n      <th>8</th>\n      <td>a</td>\n      <td>2019-05</td>\n      <td>35.0</td>\n      <td>35.0</td>\n    </tr>\n    <tr>\n      <th>9</th>\n      <td>a</td>\n      <td>2019-06</td>\n      <td>40.0</td>\n      <td>40.0</td>\n    </tr>\n    <tr>\n      <th>10</th>\n      <td>a</td>\n      <td>2019-07</td>\n      <td>45.0</td>\n      <td>45.0</td>\n    </tr>\n    <tr>\n      <th>11</th>\n      <td>a</td>\n      <td>2019-08</td>\n      <td>45.0</td>\n      <td>45.0</td>\n    </tr>\n    <tr>\n      <th>12</th>\n      <td>a</td>\n      <td>2019-09</td>\n      <td>50.0</td>\n      <td>50.0</td>\n    </tr>\n    <tr>\n      <th>13</th>\n      <td>a</td>\n      <td>2019-10</td>\n      <td>55.0</td>\n      <td>55.0</td>\n    </tr>\n    <tr>\n      <th>14</th>\n      <td>a</td>\n      <td>2019-11</td>\n      <td>55.0</td>\n      <td>55.0</td>\n    </tr>\n    <tr>\n      <th>15</th>\n      <td>b</td>\n      <td>2018-09</td>\n      <td>60.0</td>\n      <td>60.0</td>\n    </tr>\n    <tr>\n      <th>16</th>\n      <td>b</td>\n      <td>2018-10</td>\n      <td>65.0</td>\n      <td>65.0</td>\n    </tr>\n    <tr>\n      <th>17</th>\n      <td>b</td>\n      <td>2018-11</td>\n      <td>65.0</td>\n      <td>65.0</td>\n    </tr>\n    <tr>\n      <th>18</th>\n      <td>b</td>\n      <td>2018-12</td>\n      <td>70.0</td>\n      <td>70.0</td>\n    </tr>\n    <tr>\n      <th>19</th>\n      <td>b</td>\n      <td>2019-01</td>\n      <td>75.0</td>\n      <td>75.0</td>\n    </tr>\n    <tr>\n      <th>20</th>\n      <td>b</td>\n      <td>2019-02</td>\n      <td>75.0</td>\n      <td>75.0</td>\n    </tr>\n    <tr>\n      <th>21</th>\n      <td>b</td>\n      <td>2019-03</td>\n      <td>80.0</td>\n      <td>80.0</td>\n    </tr>\n    <tr>\n      <th>22</th>\n      <td>b</td>\n      <td>2019-04</td>\n      <td>85.0</td>\n      <td>85.0</td>\n    </tr>\n    <tr>\n      <th>23</th>\n      <td>b</td>\n      <td>2019-05</td>\n      <td>85.0</td>\n      <td>85.0</td>\n    </tr>\n    <tr>\n      <th>24</th>\n      <td>b</td>\n      <td>2019-06</td>\n      <td>90.0</td>\n      <td>90.0</td>\n    </tr>\n    <tr>\n      <th>25</th>\n      <td>b</td>\n      <td>2019-07</td>\n      <td>95.0</td>\n      <td>95.0</td>\n    </tr>\n    <tr>\n      <th>26</th>\n      <td>b</td>\n      <td>2019-08</td>\n      <td>95.0</td>\n      <td>95.0</td>\n    </tr>\n    <tr>\n      <th>27</th>\n      <td>b</td>\n      <td>2019-09</td>\n      <td>100.0</td>\n      <td>100.0</td>\n    </tr>\n    <tr>\n      <th>28</th>\n      <td>b</td>\n      <td>2019-10</td>\n      <td>100.0</td>\n      <td>100.0</td>\n    </tr>\n    <tr>\n      <th>29</th>\n      <td>b</td>\n      <td>2019-11</td>\n      <td>100.0</td>\n      <td>100.0</td>\n    </tr>\n  </tbody>\n</table>\n</div>",
      "text/plain": "   type     date     v1     v2\n0     a  2018-09   10.0   10.0\n1     a  2018-10   15.0   15.0\n2     a  2018-11   15.0   15.0\n3     a  2018-12   20.0   20.0\n4     a  2019-01   25.0   25.0\n5     a  2019-02   25.0   25.0\n6     a  2019-03   30.0   30.0\n7     a  2019-04   35.0   35.0\n8     a  2019-05   35.0   35.0\n9     a  2019-06   40.0   40.0\n10    a  2019-07   45.0   45.0\n11    a  2019-08   45.0   45.0\n12    a  2019-09   50.0   50.0\n13    a  2019-10   55.0   55.0\n14    a  2019-11   55.0   55.0\n15    b  2018-09   60.0   60.0\n16    b  2018-10   65.0   65.0\n17    b  2018-11   65.0   65.0\n18    b  2018-12   70.0   70.0\n19    b  2019-01   75.0   75.0\n20    b  2019-02   75.0   75.0\n21    b  2019-03   80.0   80.0\n22    b  2019-04   85.0   85.0\n23    b  2019-05   85.0   85.0\n24    b  2019-06   90.0   90.0\n25    b  2019-07   95.0   95.0\n26    b  2019-08   95.0   95.0\n27    b  2019-09  100.0  100.0\n28    b  2019-10  100.0  100.0\n29    b  2019-11  100.0  100.0"
     },
     "execution_count": 8,
     "metadata": {},
     "output_type": "execute_result"
    }
   ],
   "source": [
    "# The third method\n",
    "\n",
    "\n",
    "df_third = df.copy(deep=True)\n",
    "\n",
    "\n",
    "df_third[['v1', 'v2']] = (df_third[['v1', 'v2']].ffill() + df_third[['v1', 'v2']].bfill())/2\n",
    "\n",
    "df_third[['v1', 'v2']] = df_third[['v1', 'v2']].bfill().ffill()\n",
    "\n",
    "\n",
    "df_third"
   ]
  },
  {
   "cell_type": "markdown",
   "execution_count": null,
   "metadata": {},
   "outputs": [],
   "source": [
    "At the first glance everything seems ok, but let check the equality of these three dataframes with double equality sign and ```all``` method"
   ]
  },
  {
   "cell_type": "code",
   "execution_count": 9,
   "metadata": {},
   "outputs": [
    {
     "data": {
      "text/html": "<div>\n<style scoped>\n    .dataframe tbody tr th:only-of-type {\n        vertical-align: middle;\n    }\n\n    .dataframe tbody tr th {\n        vertical-align: top;\n    }\n\n    .dataframe thead th {\n        text-align: right;\n    }\n</style>\n<table border=\"1\" class=\"dataframe\">\n  <thead>\n    <tr style=\"text-align: right;\">\n      <th></th>\n      <th>type</th>\n      <th>date</th>\n      <th>v1</th>\n      <th>v2</th>\n    </tr>\n  </thead>\n  <tbody>\n    <tr>\n      <th>0</th>\n      <td>True</td>\n      <td>True</td>\n      <td>True</td>\n      <td>True</td>\n    </tr>\n    <tr>\n      <th>1</th>\n      <td>True</td>\n      <td>True</td>\n      <td>True</td>\n      <td>True</td>\n    </tr>\n    <tr>\n      <th>2</th>\n      <td>True</td>\n      <td>True</td>\n      <td>True</td>\n      <td>True</td>\n    </tr>\n    <tr>\n      <th>3</th>\n      <td>True</td>\n      <td>True</td>\n      <td>True</td>\n      <td>True</td>\n    </tr>\n    <tr>\n      <th>4</th>\n      <td>True</td>\n      <td>True</td>\n      <td>True</td>\n      <td>True</td>\n    </tr>\n    <tr>\n      <th>5</th>\n      <td>True</td>\n      <td>True</td>\n      <td>True</td>\n      <td>True</td>\n    </tr>\n    <tr>\n      <th>6</th>\n      <td>True</td>\n      <td>True</td>\n      <td>True</td>\n      <td>True</td>\n    </tr>\n    <tr>\n      <th>7</th>\n      <td>True</td>\n      <td>True</td>\n      <td>True</td>\n      <td>True</td>\n    </tr>\n    <tr>\n      <th>8</th>\n      <td>True</td>\n      <td>True</td>\n      <td>True</td>\n      <td>True</td>\n    </tr>\n    <tr>\n      <th>9</th>\n      <td>True</td>\n      <td>True</td>\n      <td>True</td>\n      <td>True</td>\n    </tr>\n    <tr>\n      <th>10</th>\n      <td>True</td>\n      <td>True</td>\n      <td>True</td>\n      <td>True</td>\n    </tr>\n    <tr>\n      <th>11</th>\n      <td>True</td>\n      <td>True</td>\n      <td>True</td>\n      <td>True</td>\n    </tr>\n    <tr>\n      <th>12</th>\n      <td>True</td>\n      <td>True</td>\n      <td>True</td>\n      <td>True</td>\n    </tr>\n    <tr>\n      <th>13</th>\n      <td>True</td>\n      <td>True</td>\n      <td>True</td>\n      <td>True</td>\n    </tr>\n    <tr>\n      <th>14</th>\n      <td>True</td>\n      <td>True</td>\n      <td>True</td>\n      <td>True</td>\n    </tr>\n    <tr>\n      <th>15</th>\n      <td>True</td>\n      <td>True</td>\n      <td>True</td>\n      <td>True</td>\n    </tr>\n    <tr>\n      <th>16</th>\n      <td>True</td>\n      <td>True</td>\n      <td>True</td>\n      <td>True</td>\n    </tr>\n    <tr>\n      <th>17</th>\n      <td>True</td>\n      <td>True</td>\n      <td>True</td>\n      <td>True</td>\n    </tr>\n    <tr>\n      <th>18</th>\n      <td>True</td>\n      <td>True</td>\n      <td>True</td>\n      <td>True</td>\n    </tr>\n    <tr>\n      <th>19</th>\n      <td>True</td>\n      <td>True</td>\n      <td>True</td>\n      <td>True</td>\n    </tr>\n    <tr>\n      <th>20</th>\n      <td>True</td>\n      <td>True</td>\n      <td>True</td>\n      <td>True</td>\n    </tr>\n    <tr>\n      <th>21</th>\n      <td>True</td>\n      <td>True</td>\n      <td>True</td>\n      <td>True</td>\n    </tr>\n    <tr>\n      <th>22</th>\n      <td>True</td>\n      <td>True</td>\n      <td>True</td>\n      <td>True</td>\n    </tr>\n    <tr>\n      <th>23</th>\n      <td>True</td>\n      <td>True</td>\n      <td>True</td>\n      <td>True</td>\n    </tr>\n    <tr>\n      <th>24</th>\n      <td>True</td>\n      <td>True</td>\n      <td>True</td>\n      <td>True</td>\n    </tr>\n    <tr>\n      <th>25</th>\n      <td>True</td>\n      <td>True</td>\n      <td>True</td>\n      <td>True</td>\n    </tr>\n    <tr>\n      <th>26</th>\n      <td>True</td>\n      <td>True</td>\n      <td>True</td>\n      <td>True</td>\n    </tr>\n    <tr>\n      <th>27</th>\n      <td>True</td>\n      <td>True</td>\n      <td>True</td>\n      <td>True</td>\n    </tr>\n    <tr>\n      <th>28</th>\n      <td>True</td>\n      <td>True</td>\n      <td>True</td>\n      <td>True</td>\n    </tr>\n    <tr>\n      <th>29</th>\n      <td>True</td>\n      <td>True</td>\n      <td>True</td>\n      <td>True</td>\n    </tr>\n  </tbody>\n</table>\n</div>",
      "text/plain": "    type  date    v1    v2\n0   True  True  True  True\n1   True  True  True  True\n2   True  True  True  True\n3   True  True  True  True\n4   True  True  True  True\n5   True  True  True  True\n6   True  True  True  True\n7   True  True  True  True\n8   True  True  True  True\n9   True  True  True  True\n10  True  True  True  True\n11  True  True  True  True\n12  True  True  True  True\n13  True  True  True  True\n14  True  True  True  True\n15  True  True  True  True\n16  True  True  True  True\n17  True  True  True  True\n18  True  True  True  True\n19  True  True  True  True\n20  True  True  True  True\n21  True  True  True  True\n22  True  True  True  True\n23  True  True  True  True\n24  True  True  True  True\n25  True  True  True  True\n26  True  True  True  True\n27  True  True  True  True\n28  True  True  True  True\n29  True  True  True  True"
     },
     "execution_count": 9,
     "metadata": {},
     "output_type": "execute_result"
    }
   ],
   "source": [
    "df_first == df_second\n",
    "\n",
    "# The result of the first and the second method are equal"
   ]
  },
  {
   "cell_type": "markdown",
   "execution_count": null,
   "metadata": {},
   "outputs": [],
   "source": [
    "Pandas ```assert_frame_equal()``` method is used for unit testing and tests if two dataframes are equal and output any differences between them"
   ]
  },
  {
   "cell_type": "code",
   "execution_count": 10,
   "metadata": {},
   "outputs": [
    {
     "ename": "AssertionError",
     "evalue": "DataFrame.iloc[:, 2] are different\n\nDataFrame.iloc[:, 2] values are different (6.66667 %)\n[left]:  [10.0, 15.0, 15.0, 20.0, 25.0, 25.0, 30.0, 35.0, 35.0, 40.0, 45.0, 45.0, 50.0, 55.0, 55.0, 60.0, 65.0, 65.0, 70.0, 75.0, 75.0, 80.0, 85.0, 85.0, 90.0, 95.0, 95.0, 100.0, 100.0, 100.0]\n[right]: [10.0, 15.0, 15.0, 20.0, 25.0, 25.0, 30.0, 35.0, 35.0, 40.0, 45.0, 45.0, 50.0, 50.0, 50.0, 60.0, 65.0, 65.0, 70.0, 75.0, 75.0, 80.0, 85.0, 85.0, 90.0, 95.0, 95.0, 100.0, 100.0, 100.0]",
     "output_type": "error",
     "traceback": [
      "\u001b[0;31m---------------------------------------------------------------------------\u001b[0m",
      "\u001b[0;31mAssertionError\u001b[0m                            Traceback (most recent call last)",
      "\u001b[0;32m<ipython-input-10-a5202392c447>\u001b[0m in \u001b[0;36m<module>\u001b[0;34m\u001b[0m\n\u001b[1;32m      2\u001b[0m \u001b[0;34m\u001b[0m\u001b[0m\n\u001b[1;32m      3\u001b[0m \u001b[0;34m\u001b[0m\u001b[0m\n\u001b[0;32m----> 4\u001b[0;31m \u001b[0mpd\u001b[0m\u001b[0;34m.\u001b[0m\u001b[0mtesting\u001b[0m\u001b[0;34m.\u001b[0m\u001b[0massert_frame_equal\u001b[0m\u001b[0;34m(\u001b[0m\u001b[0mdf_third\u001b[0m\u001b[0;34m,\u001b[0m \u001b[0mdf_first\u001b[0m\u001b[0;34m)\u001b[0m\u001b[0;34m\u001b[0m\u001b[0;34m\u001b[0m\u001b[0m\n\u001b[0m\u001b[1;32m      5\u001b[0m \u001b[0;34m\u001b[0m\u001b[0m\n\u001b[1;32m      6\u001b[0m \u001b[0;34m\u001b[0m\u001b[0m\n",
      "\u001b[0;32m~/miniconda3/envs/pandas/lib/python3.7/site-packages/pandas/util/testing.py\u001b[0m in \u001b[0;36massert_frame_equal\u001b[0;34m(left, right, check_dtype, check_index_type, check_column_type, check_frame_type, check_less_precise, check_names, by_blocks, check_exact, check_datetimelike_compat, check_categorical, check_like, obj)\u001b[0m\n\u001b[1;32m   1400\u001b[0m                 \u001b[0mcheck_datetimelike_compat\u001b[0m\u001b[0;34m=\u001b[0m\u001b[0mcheck_datetimelike_compat\u001b[0m\u001b[0;34m,\u001b[0m\u001b[0;34m\u001b[0m\u001b[0;34m\u001b[0m\u001b[0m\n\u001b[1;32m   1401\u001b[0m                 \u001b[0mcheck_categorical\u001b[0m\u001b[0;34m=\u001b[0m\u001b[0mcheck_categorical\u001b[0m\u001b[0;34m,\u001b[0m\u001b[0;34m\u001b[0m\u001b[0;34m\u001b[0m\u001b[0m\n\u001b[0;32m-> 1402\u001b[0;31m                 \u001b[0mobj\u001b[0m\u001b[0;34m=\u001b[0m\u001b[0;34m\"{obj}.iloc[:, {idx}]\"\u001b[0m\u001b[0;34m.\u001b[0m\u001b[0mformat\u001b[0m\u001b[0;34m(\u001b[0m\u001b[0mobj\u001b[0m\u001b[0;34m=\u001b[0m\u001b[0mobj\u001b[0m\u001b[0;34m,\u001b[0m \u001b[0midx\u001b[0m\u001b[0;34m=\u001b[0m\u001b[0mi\u001b[0m\u001b[0;34m)\u001b[0m\u001b[0;34m,\u001b[0m\u001b[0;34m\u001b[0m\u001b[0;34m\u001b[0m\u001b[0m\n\u001b[0m\u001b[1;32m   1403\u001b[0m             )\n\u001b[1;32m   1404\u001b[0m \u001b[0;34m\u001b[0m\u001b[0m\n",
      "\u001b[0;32m~/miniconda3/envs/pandas/lib/python3.7/site-packages/pandas/util/testing.py\u001b[0m in \u001b[0;36massert_series_equal\u001b[0;34m(left, right, check_dtype, check_index_type, check_series_type, check_less_precise, check_names, check_exact, check_datetimelike_compat, check_categorical, obj)\u001b[0m\n\u001b[1;32m   1205\u001b[0m             \u001b[0mcheck_less_precise\u001b[0m\u001b[0;34m=\u001b[0m\u001b[0mcheck_less_precise\u001b[0m\u001b[0;34m,\u001b[0m\u001b[0;34m\u001b[0m\u001b[0;34m\u001b[0m\u001b[0m\n\u001b[1;32m   1206\u001b[0m             \u001b[0mcheck_dtype\u001b[0m\u001b[0;34m=\u001b[0m\u001b[0mcheck_dtype\u001b[0m\u001b[0;34m,\u001b[0m\u001b[0;34m\u001b[0m\u001b[0;34m\u001b[0m\u001b[0m\n\u001b[0;32m-> 1207\u001b[0;31m             \u001b[0mobj\u001b[0m\u001b[0;34m=\u001b[0m\u001b[0;34m\"{obj}\"\u001b[0m\u001b[0;34m.\u001b[0m\u001b[0mformat\u001b[0m\u001b[0;34m(\u001b[0m\u001b[0mobj\u001b[0m\u001b[0;34m=\u001b[0m\u001b[0mobj\u001b[0m\u001b[0;34m)\u001b[0m\u001b[0;34m,\u001b[0m\u001b[0;34m\u001b[0m\u001b[0;34m\u001b[0m\u001b[0m\n\u001b[0m\u001b[1;32m   1208\u001b[0m         )\n\u001b[1;32m   1209\u001b[0m \u001b[0;34m\u001b[0m\u001b[0m\n",
      "\u001b[0;32mpandas/_libs/testing.pyx\u001b[0m in \u001b[0;36mpandas._libs.testing.assert_almost_equal\u001b[0;34m()\u001b[0m\n",
      "\u001b[0;32mpandas/_libs/testing.pyx\u001b[0m in \u001b[0;36mpandas._libs.testing.assert_almost_equal\u001b[0;34m()\u001b[0m\n",
      "\u001b[0;32m~/miniconda3/envs/pandas/lib/python3.7/site-packages/pandas/util/testing.py\u001b[0m in \u001b[0;36mraise_assert_detail\u001b[0;34m(obj, message, left, right, diff)\u001b[0m\n\u001b[1;32m    930\u001b[0m         \u001b[0mmsg\u001b[0m \u001b[0;34m+=\u001b[0m \u001b[0;34m\"\\n[diff]: {diff}\"\u001b[0m\u001b[0;34m.\u001b[0m\u001b[0mformat\u001b[0m\u001b[0;34m(\u001b[0m\u001b[0mdiff\u001b[0m\u001b[0;34m=\u001b[0m\u001b[0mdiff\u001b[0m\u001b[0;34m)\u001b[0m\u001b[0;34m\u001b[0m\u001b[0;34m\u001b[0m\u001b[0m\n\u001b[1;32m    931\u001b[0m \u001b[0;34m\u001b[0m\u001b[0m\n\u001b[0;32m--> 932\u001b[0;31m     \u001b[0;32mraise\u001b[0m \u001b[0mAssertionError\u001b[0m\u001b[0;34m(\u001b[0m\u001b[0mmsg\u001b[0m\u001b[0;34m)\u001b[0m\u001b[0;34m\u001b[0m\u001b[0;34m\u001b[0m\u001b[0m\n\u001b[0m\u001b[1;32m    933\u001b[0m \u001b[0;34m\u001b[0m\u001b[0m\n\u001b[1;32m    934\u001b[0m \u001b[0;34m\u001b[0m\u001b[0m\n",
      "\u001b[0;31mAssertionError\u001b[0m: DataFrame.iloc[:, 2] are different\n\nDataFrame.iloc[:, 2] values are different (6.66667 %)\n[left]:  [10.0, 15.0, 15.0, 20.0, 25.0, 25.0, 30.0, 35.0, 35.0, 40.0, 45.0, 45.0, 50.0, 55.0, 55.0, 60.0, 65.0, 65.0, 70.0, 75.0, 75.0, 80.0, 85.0, 85.0, 90.0, 95.0, 95.0, 100.0, 100.0, 100.0]\n[right]: [10.0, 15.0, 15.0, 20.0, 25.0, 25.0, 30.0, 35.0, 35.0, 40.0, 45.0, 45.0, 50.0, 50.0, 50.0, 60.0, 65.0, 65.0, 70.0, 75.0, 75.0, 80.0, 85.0, 85.0, 90.0, 95.0, 95.0, 100.0, 100.0, 100.0]"
     ]
    }
   ],
   "source": [
    "# Compare the third and the first dataframe\n",
    "\n",
    "\n",
    "pd.testing.assert_frame_equal(df_third, df_first)\n",
    "\n",
    "\n",
    "# It says that these two dataframes are not equal, otherwise its output is nothing."
   ]
  },
  {
   "cell_type": "code",
   "execution_count": 11,
   "metadata": {},
   "outputs": [
    {
     "data": {
      "text/html": "<div>\n<style scoped>\n    .dataframe tbody tr th:only-of-type {\n        vertical-align: middle;\n    }\n\n    .dataframe tbody tr th {\n        vertical-align: top;\n    }\n\n    .dataframe thead th {\n        text-align: right;\n    }\n</style>\n<table border=\"1\" class=\"dataframe\">\n  <thead>\n    <tr style=\"text-align: right;\">\n      <th></th>\n      <th>type</th>\n      <th>date</th>\n      <th>v1</th>\n      <th>v2</th>\n    </tr>\n  </thead>\n  <tbody>\n    <tr>\n      <th>0</th>\n      <td>True</td>\n      <td>True</td>\n      <td>True</td>\n      <td>True</td>\n    </tr>\n    <tr>\n      <th>1</th>\n      <td>True</td>\n      <td>True</td>\n      <td>True</td>\n      <td>True</td>\n    </tr>\n    <tr>\n      <th>2</th>\n      <td>True</td>\n      <td>True</td>\n      <td>True</td>\n      <td>True</td>\n    </tr>\n    <tr>\n      <th>3</th>\n      <td>True</td>\n      <td>True</td>\n      <td>True</td>\n      <td>True</td>\n    </tr>\n    <tr>\n      <th>4</th>\n      <td>True</td>\n      <td>True</td>\n      <td>True</td>\n      <td>True</td>\n    </tr>\n    <tr>\n      <th>5</th>\n      <td>True</td>\n      <td>True</td>\n      <td>True</td>\n      <td>True</td>\n    </tr>\n    <tr>\n      <th>6</th>\n      <td>True</td>\n      <td>True</td>\n      <td>True</td>\n      <td>True</td>\n    </tr>\n    <tr>\n      <th>7</th>\n      <td>True</td>\n      <td>True</td>\n      <td>True</td>\n      <td>True</td>\n    </tr>\n    <tr>\n      <th>8</th>\n      <td>True</td>\n      <td>True</td>\n      <td>True</td>\n      <td>True</td>\n    </tr>\n    <tr>\n      <th>9</th>\n      <td>True</td>\n      <td>True</td>\n      <td>True</td>\n      <td>True</td>\n    </tr>\n    <tr>\n      <th>10</th>\n      <td>True</td>\n      <td>True</td>\n      <td>True</td>\n      <td>True</td>\n    </tr>\n    <tr>\n      <th>11</th>\n      <td>True</td>\n      <td>True</td>\n      <td>True</td>\n      <td>True</td>\n    </tr>\n    <tr>\n      <th>12</th>\n      <td>True</td>\n      <td>True</td>\n      <td>True</td>\n      <td>True</td>\n    </tr>\n    <tr>\n      <th>13</th>\n      <td>True</td>\n      <td>True</td>\n      <td>False</td>\n      <td>False</td>\n    </tr>\n    <tr>\n      <th>14</th>\n      <td>True</td>\n      <td>True</td>\n      <td>False</td>\n      <td>False</td>\n    </tr>\n    <tr>\n      <th>15</th>\n      <td>True</td>\n      <td>True</td>\n      <td>True</td>\n      <td>True</td>\n    </tr>\n    <tr>\n      <th>16</th>\n      <td>True</td>\n      <td>True</td>\n      <td>True</td>\n      <td>True</td>\n    </tr>\n    <tr>\n      <th>17</th>\n      <td>True</td>\n      <td>True</td>\n      <td>True</td>\n      <td>True</td>\n    </tr>\n    <tr>\n      <th>18</th>\n      <td>True</td>\n      <td>True</td>\n      <td>True</td>\n      <td>True</td>\n    </tr>\n    <tr>\n      <th>19</th>\n      <td>True</td>\n      <td>True</td>\n      <td>True</td>\n      <td>True</td>\n    </tr>\n    <tr>\n      <th>20</th>\n      <td>True</td>\n      <td>True</td>\n      <td>True</td>\n      <td>True</td>\n    </tr>\n    <tr>\n      <th>21</th>\n      <td>True</td>\n      <td>True</td>\n      <td>True</td>\n      <td>True</td>\n    </tr>\n    <tr>\n      <th>22</th>\n      <td>True</td>\n      <td>True</td>\n      <td>True</td>\n      <td>True</td>\n    </tr>\n    <tr>\n      <th>23</th>\n      <td>True</td>\n      <td>True</td>\n      <td>True</td>\n      <td>True</td>\n    </tr>\n    <tr>\n      <th>24</th>\n      <td>True</td>\n      <td>True</td>\n      <td>True</td>\n      <td>True</td>\n    </tr>\n    <tr>\n      <th>25</th>\n      <td>True</td>\n      <td>True</td>\n      <td>True</td>\n      <td>True</td>\n    </tr>\n    <tr>\n      <th>26</th>\n      <td>True</td>\n      <td>True</td>\n      <td>True</td>\n      <td>True</td>\n    </tr>\n    <tr>\n      <th>27</th>\n      <td>True</td>\n      <td>True</td>\n      <td>True</td>\n      <td>True</td>\n    </tr>\n    <tr>\n      <th>28</th>\n      <td>True</td>\n      <td>True</td>\n      <td>True</td>\n      <td>True</td>\n    </tr>\n    <tr>\n      <th>29</th>\n      <td>True</td>\n      <td>True</td>\n      <td>True</td>\n      <td>True</td>\n    </tr>\n  </tbody>\n</table>\n</div>",
      "text/plain": "    type  date     v1     v2\n0   True  True   True   True\n1   True  True   True   True\n2   True  True   True   True\n3   True  True   True   True\n4   True  True   True   True\n5   True  True   True   True\n6   True  True   True   True\n7   True  True   True   True\n8   True  True   True   True\n9   True  True   True   True\n10  True  True   True   True\n11  True  True   True   True\n12  True  True   True   True\n13  True  True  False  False\n14  True  True  False  False\n15  True  True   True   True\n16  True  True   True   True\n17  True  True   True   True\n18  True  True   True   True\n19  True  True   True   True\n20  True  True   True   True\n21  True  True   True   True\n22  True  True   True   True\n23  True  True   True   True\n24  True  True   True   True\n25  True  True   True   True\n26  True  True   True   True\n27  True  True   True   True\n28  True  True   True   True\n29  True  True   True   True"
     },
     "execution_count": 11,
     "metadata": {},
     "output_type": "execute_result"
    }
   ],
   "source": [
    "df_third == df_first"
   ]
  },
  {
   "cell_type": "markdown",
   "execution_count": null,
   "metadata": {},
   "outputs": [],
   "source": [
    "At index position 13 and 14 we have ```False``` values. That was the reason of inequality. But why do we have these ```False``` values? The dry plain method calculated the average of non-missing values sequentially not by ```type```. At index 13 and 14 the average is 50 not 55, because the third method calculated the average between 50 and 60 instead of 50 and NaN. That resulted the bug!"
   ]
  },
  {
   "cell_type": "code",
   "execution_count": 12,
   "metadata": {},
   "outputs": [
    {
     "data": {
      "text/html": "<div>\n<style scoped>\n    .dataframe tbody tr th:only-of-type {\n        vertical-align: middle;\n    }\n\n    .dataframe tbody tr th {\n        vertical-align: top;\n    }\n\n    .dataframe thead th {\n        text-align: right;\n    }\n</style>\n<table border=\"1\" class=\"dataframe\">\n  <thead>\n    <tr style=\"text-align: right;\">\n      <th></th>\n      <th>type</th>\n      <th>date</th>\n      <th>v1</th>\n      <th>v2</th>\n    </tr>\n  </thead>\n  <tbody>\n    <tr>\n      <th>12</th>\n      <td>a</td>\n      <td>2019-09</td>\n      <td>50.0</td>\n      <td>50.0</td>\n    </tr>\n    <tr>\n      <th>13</th>\n      <td>a</td>\n      <td>2019-10</td>\n      <td>NaN</td>\n      <td>NaN</td>\n    </tr>\n    <tr>\n      <th>14</th>\n      <td>a</td>\n      <td>2019-11</td>\n      <td>NaN</td>\n      <td>NaN</td>\n    </tr>\n    <tr>\n      <th>15</th>\n      <td>b</td>\n      <td>2018-09</td>\n      <td>60.0</td>\n      <td>60.0</td>\n    </tr>\n  </tbody>\n</table>\n</div>",
      "text/plain": "   type     date    v1    v2\n12    a  2019-09  50.0  50.0\n13    a  2019-10   NaN   NaN\n14    a  2019-11   NaN   NaN\n15    b  2018-09  60.0  60.0"
     },
     "execution_count": 12,
     "metadata": {},
     "output_type": "execute_result"
    }
   ],
   "source": [
    "df.iloc[12:16]"
   ]
  },
  {
   "cell_type": "code",
   "execution_count": 13,
   "metadata": {},
   "outputs": [
    {
     "data": {
      "text/html": "<div>\n<style scoped>\n    .dataframe tbody tr th:only-of-type {\n        vertical-align: middle;\n    }\n\n    .dataframe tbody tr th {\n        vertical-align: top;\n    }\n\n    .dataframe thead th {\n        text-align: right;\n    }\n</style>\n<table border=\"1\" class=\"dataframe\">\n  <thead>\n    <tr style=\"text-align: right;\">\n      <th></th>\n      <th>type</th>\n      <th>date</th>\n      <th>v1</th>\n      <th>v2</th>\n    </tr>\n  </thead>\n  <tbody>\n    <tr>\n      <th>12</th>\n      <td>a</td>\n      <td>2019-09</td>\n      <td>50.0</td>\n      <td>50.0</td>\n    </tr>\n    <tr>\n      <th>13</th>\n      <td>a</td>\n      <td>2019-10</td>\n      <td>50.0</td>\n      <td>50.0</td>\n    </tr>\n    <tr>\n      <th>14</th>\n      <td>a</td>\n      <td>2019-11</td>\n      <td>50.0</td>\n      <td>50.0</td>\n    </tr>\n    <tr>\n      <th>15</th>\n      <td>b</td>\n      <td>2018-09</td>\n      <td>60.0</td>\n      <td>60.0</td>\n    </tr>\n  </tbody>\n</table>\n</div>",
      "text/plain": "   type     date    v1    v2\n12    a  2019-09  50.0  50.0\n13    a  2019-10  50.0  50.0\n14    a  2019-11  50.0  50.0\n15    b  2018-09  60.0  60.0"
     },
     "execution_count": 13,
     "metadata": {},
     "output_type": "execute_result"
    }
   ],
   "source": [
    "df_first.iloc[12:16]"
   ]
  },
  {
   "cell_type": "code",
   "execution_count": 14,
   "metadata": {},
   "outputs": [
    {
     "data": {
      "text/html": "<div>\n<style scoped>\n    .dataframe tbody tr th:only-of-type {\n        vertical-align: middle;\n    }\n\n    .dataframe tbody tr th {\n        vertical-align: top;\n    }\n\n    .dataframe thead th {\n        text-align: right;\n    }\n</style>\n<table border=\"1\" class=\"dataframe\">\n  <thead>\n    <tr style=\"text-align: right;\">\n      <th></th>\n      <th>type</th>\n      <th>date</th>\n      <th>v1</th>\n      <th>v2</th>\n    </tr>\n  </thead>\n  <tbody>\n    <tr>\n      <th>12</th>\n      <td>a</td>\n      <td>2019-09</td>\n      <td>50.0</td>\n      <td>50.0</td>\n    </tr>\n    <tr>\n      <th>13</th>\n      <td>a</td>\n      <td>2019-10</td>\n      <td>55.0</td>\n      <td>55.0</td>\n    </tr>\n    <tr>\n      <th>14</th>\n      <td>a</td>\n      <td>2019-11</td>\n      <td>55.0</td>\n      <td>55.0</td>\n    </tr>\n    <tr>\n      <th>15</th>\n      <td>b</td>\n      <td>2018-09</td>\n      <td>60.0</td>\n      <td>60.0</td>\n    </tr>\n  </tbody>\n</table>\n</div>",
      "text/plain": "   type     date    v1    v2\n12    a  2019-09  50.0  50.0\n13    a  2019-10  55.0  55.0\n14    a  2019-11  55.0  55.0\n15    b  2018-09  60.0  60.0"
     },
     "execution_count": 14,
     "metadata": {},
     "output_type": "execute_result"
    }
   ],
   "source": [
    "df_third.iloc[12:16]   # Not Correct"
   ]
  },
  {
   "cell_type": "code",
   "execution_count": null,
   "metadata": {},
   "outputs": [],
   "source": []
  }
 ]
}