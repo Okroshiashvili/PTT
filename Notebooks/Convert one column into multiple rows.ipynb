{
 "nbformat": 4,
 "nbformat_minor": 2,
 "metadata": {
  "language_info": {
   "name": "python",
   "codemirror_mode": {
    "name": "ipython",
    "version": 3
   },
   "version": "3.7.5-final"
  },
  "orig_nbformat": 2,
  "file_extension": ".py",
  "mimetype": "text/x-python",
  "name": "python",
  "npconvert_exporter": "python",
  "pygments_lexer": "ipython3",
  "version": 3,
  "kernelspec": {
   "name": "python37564bitpandasconda46ae5c7cd3ce4633b20b3219cca00c78",
   "display_name": "Python 3.7.5 64-bit ('pandas': conda)"
  }
 },
 "cells": [
  {
   "cell_type": "markdown",
   "execution_count": null,
   "metadata": {},
   "outputs": [],
   "source": [
    "# How to convert one column with repetitive index into multiple rows\n",
    "\n",
    "---\n",
    "\n",
    "In this notebook, I'll show you how to split one column with repetitive index and/or value into multiple rows with unique index"
   ]
  },
  {
   "cell_type": "code",
   "execution_count": 1,
   "metadata": {},
   "outputs": [],
   "source": [
    "import pandas as pd"
   ]
  },
  {
   "cell_type": "markdown",
   "execution_count": null,
   "metadata": {},
   "outputs": [],
   "source": [
    "Let create some artificial data as dictionary and then convert if to Pandas DataFrame object"
   ]
  },
  {
   "cell_type": "code",
   "execution_count": 2,
   "metadata": {},
   "outputs": [],
   "source": [
    "data = {\"ID\":[100, 100, 200, 200, 200, 300, 300, 400], \"Product_Name\":[\"Apple\", \"Banana\", \"Cherry\", \"Apricot\", \"Apple\", \"Avocado\", \"Avocado\", \"Orange\"]}"
   ]
  },
  {
   "cell_type": "code",
   "execution_count": 3,
   "metadata": {},
   "outputs": [],
   "source": [
    "df = pd.DataFrame(data)"
   ]
  },
  {
   "cell_type": "code",
   "execution_count": 4,
   "metadata": {},
   "outputs": [
    {
     "data": {
      "text/html": "<div>\n<style scoped>\n    .dataframe tbody tr th:only-of-type {\n        vertical-align: middle;\n    }\n\n    .dataframe tbody tr th {\n        vertical-align: top;\n    }\n\n    .dataframe thead th {\n        text-align: right;\n    }\n</style>\n<table border=\"1\" class=\"dataframe\">\n  <thead>\n    <tr style=\"text-align: right;\">\n      <th></th>\n      <th>ID</th>\n      <th>Product_Name</th>\n    </tr>\n  </thead>\n  <tbody>\n    <tr>\n      <th>0</th>\n      <td>100</td>\n      <td>Apple</td>\n    </tr>\n    <tr>\n      <th>1</th>\n      <td>100</td>\n      <td>Banana</td>\n    </tr>\n    <tr>\n      <th>2</th>\n      <td>200</td>\n      <td>Cherry</td>\n    </tr>\n    <tr>\n      <th>3</th>\n      <td>200</td>\n      <td>Apricot</td>\n    </tr>\n    <tr>\n      <th>4</th>\n      <td>200</td>\n      <td>Apple</td>\n    </tr>\n    <tr>\n      <th>5</th>\n      <td>300</td>\n      <td>Avocado</td>\n    </tr>\n    <tr>\n      <th>6</th>\n      <td>300</td>\n      <td>Avocado</td>\n    </tr>\n    <tr>\n      <th>7</th>\n      <td>400</td>\n      <td>Orange</td>\n    </tr>\n  </tbody>\n</table>\n</div>",
      "text/plain": "    ID Product_Name\n0  100        Apple\n1  100       Banana\n2  200       Cherry\n3  200      Apricot\n4  200        Apple\n5  300      Avocado\n6  300      Avocado\n7  400       Orange"
     },
     "execution_count": 4,
     "metadata": {},
     "output_type": "execute_result"
    }
   ],
   "source": [
    "df"
   ]
  },
  {
   "cell_type": "markdown",
   "execution_count": null,
   "metadata": {},
   "outputs": [],
   "source": [
    "We see that our dataframe contains repetitive index (```ID```) and also not unique values for each unique index. Our aim is to convert ```Product_Name``` column into rows such as to keep index unique and in each new colum to be each product name. We need the following format:\n",
    "\n",
    "\n",
    "\n",
    "|   ID  | 0 | 1 | 2 |\n",
    "| --- | --- | --- | --- |\n",
    "| 100 | Apple | Banana | NaN |\n",
    "| 200 | Cherry | Apricot | Apple |\n",
    "| 300 | Avocado | Avocado | NaN |\n",
    "| 400 | Orange | NaN | NaN |"
   ]
  },
  {
   "cell_type": "markdown",
   "execution_count": null,
   "metadata": {},
   "outputs": [],
   "source": [
    "To achieve our aim we can use ```cumcount``` for new columns names to ```MultiIndex``` by ```set_index``` and reshape by ```unstack```. The second way to do this will be to create ```Series``` of ```lists``` and new ```DataFrame``` by contructor:"
   ]
  },
  {
   "cell_type": "code",
   "execution_count": 5,
   "metadata": {},
   "outputs": [
    {
     "data": {
      "text/html": "<div>\n<style scoped>\n    .dataframe tbody tr th:only-of-type {\n        vertical-align: middle;\n    }\n\n    .dataframe tbody tr th {\n        vertical-align: top;\n    }\n\n    .dataframe thead th {\n        text-align: right;\n    }\n</style>\n<table border=\"1\" class=\"dataframe\">\n  <thead>\n    <tr style=\"text-align: right;\">\n      <th></th>\n      <th>0</th>\n      <th>1</th>\n      <th>2</th>\n    </tr>\n    <tr>\n      <th>ID</th>\n      <th></th>\n      <th></th>\n      <th></th>\n    </tr>\n  </thead>\n  <tbody>\n    <tr>\n      <th>100</th>\n      <td>Apple</td>\n      <td>Banana</td>\n      <td>NaN</td>\n    </tr>\n    <tr>\n      <th>200</th>\n      <td>Cherry</td>\n      <td>Apricot</td>\n      <td>Apple</td>\n    </tr>\n    <tr>\n      <th>300</th>\n      <td>Avocado</td>\n      <td>Avocado</td>\n      <td>NaN</td>\n    </tr>\n    <tr>\n      <th>400</th>\n      <td>Orange</td>\n      <td>NaN</td>\n      <td>NaN</td>\n    </tr>\n  </tbody>\n</table>\n</div>",
      "text/plain": "           0        1      2\nID                          \n100    Apple   Banana    NaN\n200   Cherry  Apricot  Apple\n300  Avocado  Avocado    NaN\n400   Orange      NaN    NaN"
     },
     "execution_count": 5,
     "metadata": {},
     "output_type": "execute_result"
    }
   ],
   "source": [
    "df.set_index(['ID',df.groupby('ID').cumcount()])['Product_Name'].unstack()"
   ]
  },
  {
   "cell_type": "code",
   "execution_count": 6,
   "metadata": {},
   "outputs": [
    {
     "data": {
      "text/html": "<div>\n<style scoped>\n    .dataframe tbody tr th:only-of-type {\n        vertical-align: middle;\n    }\n\n    .dataframe tbody tr th {\n        vertical-align: top;\n    }\n\n    .dataframe thead th {\n        text-align: right;\n    }\n</style>\n<table border=\"1\" class=\"dataframe\">\n  <thead>\n    <tr style=\"text-align: right;\">\n      <th></th>\n      <th>0</th>\n      <th>1</th>\n      <th>2</th>\n    </tr>\n    <tr>\n      <th>ID</th>\n      <th></th>\n      <th></th>\n      <th></th>\n    </tr>\n  </thead>\n  <tbody>\n    <tr>\n      <th>100</th>\n      <td>Apple</td>\n      <td>Banana</td>\n      <td>None</td>\n    </tr>\n    <tr>\n      <th>200</th>\n      <td>Cherry</td>\n      <td>Apricot</td>\n      <td>Apple</td>\n    </tr>\n    <tr>\n      <th>300</th>\n      <td>Avocado</td>\n      <td>Avocado</td>\n      <td>None</td>\n    </tr>\n    <tr>\n      <th>400</th>\n      <td>Orange</td>\n      <td>None</td>\n      <td>None</td>\n    </tr>\n  </tbody>\n</table>\n</div>",
      "text/plain": "           0        1      2\nID                          \n100    Apple   Banana   None\n200   Cherry  Apricot  Apple\n300  Avocado  Avocado   None\n400   Orange     None   None"
     },
     "execution_count": 6,
     "metadata": {},
     "output_type": "execute_result"
    }
   ],
   "source": [
    "# Second way of doing the same as above\n",
    "\n",
    "s = df.groupby('ID')['Product_Name'].apply(list)\n",
    "\n",
    "pd.DataFrame(s.values.tolist(), index=s.index)"
   ]
  },
  {
   "cell_type": "markdown",
   "execution_count": null,
   "metadata": {},
   "outputs": [],
   "source": [
    "That's good. We found the solution, but what if we want to have just two columns. I mean to aggregate ```Product_Name``` column values in one cell for each unique index? That's even easy to do. Use ```groupby``` then ```apply``` ```join``` and ```reset_index```"
   ]
  },
  {
   "cell_type": "code",
   "execution_count": 7,
   "metadata": {},
   "outputs": [
    {
     "data": {
      "text/html": "<div>\n<style scoped>\n    .dataframe tbody tr th:only-of-type {\n        vertical-align: middle;\n    }\n\n    .dataframe tbody tr th {\n        vertical-align: top;\n    }\n\n    .dataframe thead th {\n        text-align: right;\n    }\n</style>\n<table border=\"1\" class=\"dataframe\">\n  <thead>\n    <tr style=\"text-align: right;\">\n      <th></th>\n      <th>ID</th>\n      <th>New_Product_Name</th>\n    </tr>\n  </thead>\n  <tbody>\n    <tr>\n      <th>0</th>\n      <td>100</td>\n      <td>Apple Banana</td>\n    </tr>\n    <tr>\n      <th>1</th>\n      <td>200</td>\n      <td>Cherry Apricot Apple</td>\n    </tr>\n    <tr>\n      <th>2</th>\n      <td>300</td>\n      <td>Avocado Avocado</td>\n    </tr>\n    <tr>\n      <th>3</th>\n      <td>400</td>\n      <td>Orange</td>\n    </tr>\n  </tbody>\n</table>\n</div>",
      "text/plain": "    ID      New_Product_Name\n0  100          Apple Banana\n1  200  Cherry Apricot Apple\n2  300       Avocado Avocado\n3  400                Orange"
     },
     "execution_count": 7,
     "metadata": {},
     "output_type": "execute_result"
    }
   ],
   "source": [
    "df.groupby('ID')['Product_Name'].apply(' '.join).reset_index(name='New_Product_Name')"
   ]
  },
  {
   "cell_type": "code",
   "execution_count": null,
   "metadata": {},
   "outputs": [],
   "source": []
  }
 ]
}