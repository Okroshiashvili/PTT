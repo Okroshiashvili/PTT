{
 "nbformat": 4,
 "nbformat_minor": 2,
 "metadata": {
  "language_info": {
   "name": "python",
   "codemirror_mode": {
    "name": "ipython",
    "version": 3
   },
   "version": "3.7.6-final"
  },
  "orig_nbformat": 2,
  "file_extension": ".py",
  "mimetype": "text/x-python",
  "name": "python",
  "npconvert_exporter": "python",
  "pygments_lexer": "ipython3",
  "version": 3,
  "kernelspec": {
   "name": "python37664bitkaggleconda28cca1e405074c4bb31052fa7b08fe8e",
   "display_name": "Python 3.7.6 64-bit ('kaggle': conda)"
  }
 },
 "cells": [
  {
   "cell_type": "markdown",
   "execution_count": null,
   "metadata": {},
   "outputs": [],
   "source": [
    "# How to select column types in Pandas DataFrame\n",
    "\n",
    "---\n",
    "\n",
    "In this notebook, I want to show you some tricks how conveniently you can check and select column types in Pandas DataFrame"
   ]
  },
  {
   "cell_type": "code",
   "execution_count": 1,
   "metadata": {},
   "outputs": [],
   "source": [
    "import pandas as pd"
   ]
  },
  {
   "cell_type": "markdown",
   "execution_count": null,
   "metadata": {},
   "outputs": [],
   "source": [
    "Let create some artificial data as dictionary and then convert if to Pandas DataFrame object"
   ]
  },
  {
   "cell_type": "code",
   "execution_count": 2,
   "metadata": {},
   "outputs": [],
   "source": [
    "data = {\"Id\":[1, 2, 3, 4, 5, 6], \"Name\":[\"John\", \"Alex\", \"Barbara\", \"Jane\", \"James\", \"Emma\"],\n",
    "        \"Age\":[25, 33, 52, 41, 30, 40], \"Date_of_Birth\":[\"1995/10/25\", \"1987/8/31\", \"1968/5/6\", \"1979/12/12\", \"1990/4/20\", \"1980/1/1\"],\n",
    "        \"Salary\":[15500.65, 95420.6, 254287.5, 55000.0, 78942.47, 122500.2]}"
   ]
  },
  {
   "cell_type": "code",
   "execution_count": 3,
   "metadata": {},
   "outputs": [],
   "source": [
    "df = pd.DataFrame(data)"
   ]
  },
  {
   "cell_type": "markdown",
   "execution_count": null,
   "metadata": {},
   "outputs": [],
   "source": [
    "To check what are the columns types, we can use Pandas ```.dtypes``` attribute"
   ]
  },
  {
   "cell_type": "code",
   "execution_count": 4,
   "metadata": {},
   "outputs": [
    {
     "data": {
      "text/plain": "Id                 int64\nName              object\nAge                int64\nDate_of_Birth     object\nSalary           float64\ndtype: object"
     },
     "execution_count": 4,
     "metadata": {},
     "output_type": "execute_result"
    }
   ],
   "source": [
    "df.dtypes"
   ]
  },
  {
   "cell_type": "markdown",
   "execution_count": null,
   "metadata": {},
   "outputs": [],
   "source": [
    "We see three different column types. They are:\n",
    "\n",
    "* ```int64``` - Integers numbers\n",
    "* ```float64``` - Float numbers\n",
    "* ```object``` - Can be string or any column with mixed types\n",
    "\n",
    "Also, Note that ```Date_of_Birth``` is date not ```object``` type as shown above. We need to convert it into ```datetime``` object. "
   ]
  },
  {
   "cell_type": "code",
   "execution_count": 5,
   "metadata": {},
   "outputs": [],
   "source": [
    "# Convert \"Date_of_Birth\" into datetime object\n",
    "\n",
    "df['Date_of_Birth'] = pd.to_datetime(df['Date_of_Birth'])"
   ]
  },
  {
   "cell_type": "code",
   "execution_count": 6,
   "metadata": {},
   "outputs": [
    {
     "data": {
      "text/plain": "Id                        int64\nName                     object\nAge                       int64\nDate_of_Birth    datetime64[ns]\nSalary                  float64\ndtype: object"
     },
     "execution_count": 6,
     "metadata": {},
     "output_type": "execute_result"
    }
   ],
   "source": [
    "df.dtypes"
   ]
  },
  {
   "cell_type": "markdown",
   "execution_count": null,
   "metadata": {},
   "outputs": [],
   "source": [
    "From the above output, we see that we have one new type: ```datetime64[ns]```"
   ]
  },
  {
   "cell_type": "markdown",
   "execution_count": null,
   "metadata": {},
   "outputs": [],
   "source": [
    "```.info()``` method gives much richer output about our dataframe. We can either use this method to check types of columns."
   ]
  },
  {
   "cell_type": "code",
   "execution_count": 7,
   "metadata": {},
   "outputs": [
    {
     "name": "stdout",
     "output_type": "stream",
     "text": "<class 'pandas.core.frame.DataFrame'>\nRangeIndex: 6 entries, 0 to 5\nData columns (total 5 columns):\nId               6 non-null int64\nName             6 non-null object\nAge              6 non-null int64\nDate_of_Birth    6 non-null datetime64[ns]\nSalary           6 non-null float64\ndtypes: datetime64[ns](1), float64(1), int64(2), object(1)\nmemory usage: 368.0+ bytes\n"
    }
   ],
   "source": [
    "df.info(verbose=True)"
   ]
  },
  {
   "cell_type": "markdown",
   "execution_count": null,
   "metadata": {},
   "outputs": [],
   "source": [
    "Now, imagine the situation when you have thousands of columns. It's really hard and tedious to look for all the column types with ```.dtypes``` attribute or ```.info()``` method. To ease the search process we can use Pandas ```.select_dtypes()``` method with combination of ```.columns``` attribute and ```.tolist()``` method"
   ]
  },
  {
   "cell_type": "code",
   "execution_count": 8,
   "metadata": {},
   "outputs": [
    {
     "name": "stdout",
     "output_type": "stream",
     "text": "['Name']\n['Id', 'Age']\n['Salary']\n['Date_of_Birth']\n"
    }
   ],
   "source": [
    "print(df.select_dtypes(include='object').columns.to_list())\n",
    "\n",
    "print(df.select_dtypes(include=\"int64\").columns.to_list())\n",
    "\n",
    "print(df.select_dtypes(include=\"float64\").columns.to_list())\n",
    "\n",
    "print(df.select_dtypes(include=\"datetime64[ns]\").columns.to_list())"
   ]
  },
  {
   "cell_type": "markdown",
   "execution_count": null,
   "metadata": {},
   "outputs": [],
   "source": [
    "We can even write a small function to perform column type selection"
   ]
  },
  {
   "cell_type": "code",
   "execution_count": 9,
   "metadata": {},
   "outputs": [],
   "source": [
    "def select_col_dtypes(df: pd.DataFrame, col_type: list = None) -> list:\n",
    "    \"\"\"\n",
    "    Args:\n",
    "        df: Pandas DataFrame\n",
    "        col_type: List of column types. Defaults to None.\n",
    "    \n",
    "    Returns:\n",
    "        list of selected column types\n",
    "    \"\"\"\n",
    "    if col_type == None:\n",
    "        return df.columns.to_list()\n",
    "    else:\n",
    "        return df.select_dtypes(include=col_type).columns.to_list()"
   ]
  },
  {
   "cell_type": "code",
   "execution_count": 10,
   "metadata": {},
   "outputs": [
    {
     "name": "stdout",
     "output_type": "stream",
     "text": "['Id', 'Age', 'Salary']\n['Date_of_Birth']\n"
    }
   ],
   "source": [
    "print(select_col_dtypes(df, [\"float64\", \"int64\"]))\n",
    "\n",
    "print(select_col_dtypes(df, \"datetime64[ns]\"))"
   ]
  },
  {
   "cell_type": "markdown",
   "execution_count": null,
   "metadata": {},
   "outputs": [],
   "source": [
    "Let go even further and create Pandas Series of columns and then groupby this Series by column types and extract groups"
   ]
  },
  {
   "cell_type": "code",
   "execution_count": 11,
   "metadata": {},
   "outputs": [],
   "source": [
    "col_type_dict = df.columns.to_series().groupby(df.dtypes).groups"
   ]
  },
  {
   "cell_type": "code",
   "execution_count": 12,
   "metadata": {},
   "outputs": [
    {
     "name": "stdout",
     "output_type": "stream",
     "text": "{dtype('int64'): Index(['Id', 'Age'], dtype='object'),\n dtype('<M8[ns]'): Index(['Date_of_Birth'], dtype='object'),\n dtype('float64'): Index(['Salary'], dtype='object'),\n dtype('O'): Index(['Name'], dtype='object')}\n"
    }
   ],
   "source": [
    "# Pretty Print\n",
    "from pprint import pprint as pp\n",
    "\n",
    "\n",
    "pp(col_type_dict)"
   ]
  },
  {
   "cell_type": "code",
   "execution_count": null,
   "metadata": {},
   "outputs": [],
   "source": []
  }
 ]
}